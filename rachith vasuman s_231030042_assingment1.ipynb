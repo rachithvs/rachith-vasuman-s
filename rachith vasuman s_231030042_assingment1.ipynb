{
  "nbformat": 4,
  "nbformat_minor": 0,
  "metadata": {
    "colab": {
      "provenance": [],
      "authorship_tag": "ABX9TyPcqu3lUtRhyHq64VoHU8xw",
      "include_colab_link": true
    },
    "kernelspec": {
      "name": "python3",
      "display_name": "Python 3"
    },
    "language_info": {
      "name": "python"
    }
  },
  "cells": [
    {
      "cell_type": "markdown",
      "metadata": {
        "id": "view-in-github",
        "colab_type": "text"
      },
      "source": [
        "<a href=\"https://colab.research.google.com/github/rachithvs/rachith-vasuman-s/blob/main/rachith%20vasuman%20s_231030042_assingment1.ipynb\" target=\"_parent\"><img src=\"https://colab.research.google.com/assets/colab-badge.svg\" alt=\"Open In Colab\"/></a>"
      ]
    },
    {
      "cell_type": "code",
      "execution_count": null,
      "metadata": {
        "id": "Ll759XObPvST"
      },
      "outputs": [],
      "source": [
        "# 1) Create a row and column vector using input method and manually"
      ]
    },
    {
      "cell_type": "code",
      "source": [
        "import numpy as np\n",
        "row_input = input(\"Enter space-separated values for the row vector: \")\n",
        "row_values = [float(x) for x in row_input.split()]\n",
        "row_vect = np.array(row_values)\n",
        "\n",
        "print(\"Row vector:\")\n",
        "print(row_vect)"
      ],
      "metadata": {
        "colab": {
          "base_uri": "https://localhost:8080/"
        },
        "id": "CxUNHalHP8e_",
        "outputId": "9e5514bb-cf94-4473-8ed5-e75cd85daec3"
      },
      "execution_count": 2,
      "outputs": [
        {
          "output_type": "stream",
          "name": "stdout",
          "text": [
            "Enter space-separated values for the row vector: 1 2 3 4 5\n",
            "Row vector:\n",
            "[1. 2. 3. 4. 5.]\n"
          ]
        }
      ]
    },
    {
      "cell_type": "code",
      "source": [
        "col_input = input(\"Enter space-separated values for the column vector: \")\n",
        "col_values = [float(x) for x in col_input.split()]\n",
        "col_vect = np.array(col_values).reshape(-1, 1)\n",
        "\n",
        "print(\"Column vector:\")\n",
        "print(col_vect)"
      ],
      "metadata": {
        "colab": {
          "base_uri": "https://localhost:8080/"
        },
        "id": "YDU8kKv9QFq6",
        "outputId": "a98b932d-eaf7-4a74-e030-c3f6f03b7999"
      },
      "execution_count": 3,
      "outputs": [
        {
          "output_type": "stream",
          "name": "stdout",
          "text": [
            "Enter space-separated values for the column vector: 1 2 3 4 5\n",
            "Column vector:\n",
            "[[1.]\n",
            " [2.]\n",
            " [3.]\n",
            " [4.]\n",
            " [5.]]\n"
          ]
        }
      ]
    },
    {
      "cell_type": "code",
      "source": [
        "#2) Create a matrix (5 × 5) using the input method as well as manually and save it as “a”."
      ],
      "metadata": {
        "id": "s0MHw45JQOI8"
      },
      "execution_count": null,
      "outputs": []
    },
    {
      "cell_type": "code",
      "source": [
        "import numpy as np\n",
        "\n",
        "input_matrix = []\n",
        "print(\"Enter values for the 5x5 matrix:\")\n",
        "\n",
        "for _ in range(5):\n",
        "    row_input = input(f\"Enter 5 space-separated values for row {_ + 1}: \")\n",
        "    row_values = [float(x) for x in row_input.split()]\n",
        "    input_matrix.append(row_values)\n",
        "\n",
        "a = np.array(input_matrix)\n",
        "\n",
        "print(\"Matrix 'a' created using user input:\")\n",
        "print(a)"
      ],
      "metadata": {
        "colab": {
          "base_uri": "https://localhost:8080/"
        },
        "id": "U5iZJ777Rdce",
        "outputId": "51c66949-64d4-4458-d7b9-5e8cb05f7f40"
      },
      "execution_count": 4,
      "outputs": [
        {
          "output_type": "stream",
          "name": "stdout",
          "text": [
            "Enter values for the 5x5 matrix:\n",
            "Enter 5 space-separated values for row 1: 8 7 6 3 2 \n",
            "Enter 5 space-separated values for row 2: 9 5 1 0 5\n",
            "Enter 5 space-separated values for row 3: 2 6 4 7 1\n",
            "Enter 5 space-separated values for row 4: 0 8 3 6 1\n",
            "Enter 5 space-separated values for row 5: 5 7 2 9 2\n",
            "Matrix 'a' created using user input:\n",
            "[[8. 7. 6. 3. 2.]\n",
            " [9. 5. 1. 0. 5.]\n",
            " [2. 6. 4. 7. 1.]\n",
            " [0. 8. 3. 6. 1.]\n",
            " [5. 7. 2. 9. 2.]]\n"
          ]
        }
      ]
    },
    {
      "cell_type": "code",
      "source": [
        "8#3) Get 3rd row out of the matrix."
      ],
      "metadata": {
        "id": "khNqXhiISTXv"
      },
      "execution_count": null,
      "outputs": []
    },
    {
      "cell_type": "code",
      "source": [
        "a[2]"
      ],
      "metadata": {
        "colab": {
          "base_uri": "https://localhost:8080/"
        },
        "id": "hFr3BvJUSpiW",
        "outputId": "f1d332c9-3d0f-4904-ce10-7b995874957f"
      },
      "execution_count": 5,
      "outputs": [
        {
          "output_type": "execute_result",
          "data": {
            "text/plain": [
              "array([2., 6., 4., 7., 1.])"
            ]
          },
          "metadata": {},
          "execution_count": 5
        }
      ]
    },
    {
      "cell_type": "code",
      "source": [
        "#4) Get 4th column out of the matrix"
      ],
      "metadata": {
        "id": "SVetgCPHS3cr"
      },
      "execution_count": null,
      "outputs": []
    },
    {
      "cell_type": "code",
      "source": [
        "print(a[0][3])\n",
        "print(a[1][3])\n",
        "print(a[2][3])\n",
        "print(a[3][3])\n",
        "print(a[4][3])"
      ],
      "metadata": {
        "colab": {
          "base_uri": "https://localhost:8080/"
        },
        "id": "cF0qtSGTS_Nl",
        "outputId": "7b69f96c-9366-414d-959b-8fb884ea4d1a"
      },
      "execution_count": 6,
      "outputs": [
        {
          "output_type": "stream",
          "name": "stdout",
          "text": [
            "3.0\n",
            "0.0\n",
            "7.0\n",
            "6.0\n",
            "9.0\n"
          ]
        }
      ]
    },
    {
      "cell_type": "code",
      "source": [
        "#5) Sort matrix row wise and column wise"
      ],
      "metadata": {
        "id": "j-X0vmrxTOur"
      },
      "execution_count": null,
      "outputs": []
    },
    {
      "cell_type": "code",
      "source": [
        "a.sort()\n",
        "print(a)"
      ],
      "metadata": {
        "colab": {
          "base_uri": "https://localhost:8080/"
        },
        "id": "w7-dOZmOTyNB",
        "outputId": "184f102b-4f98-4a36-811a-e3d9ef6c0e90"
      },
      "execution_count": 7,
      "outputs": [
        {
          "output_type": "stream",
          "name": "stdout",
          "text": [
            "[[2. 3. 6. 7. 8.]\n",
            " [0. 1. 5. 5. 9.]\n",
            " [1. 2. 4. 6. 7.]\n",
            " [0. 1. 3. 6. 8.]\n",
            " [2. 2. 5. 7. 9.]]\n"
          ]
        }
      ]
    },
    {
      "cell_type": "code",
      "source": [
        "#6) Apply for loop in matrix, if element is greater than 2, multiply element by 10 say it as “b”."
      ],
      "metadata": {
        "id": "9kFRbrwyT160"
      },
      "execution_count": null,
      "outputs": []
    },
    {
      "cell_type": "code",
      "source": [
        "b = np.copy(a)  # Create a copy of the matrix\n",
        "\n",
        "for i in range(b.shape[0]):\n",
        "    for j in range(b.shape[1]):\n",
        "        if b[i, j] > 2:\n",
        "            b[i, j] *= 10\n",
        "\n",
        "print(\"Matrix 'b' after applying for loop:\")\n",
        "print(b)"
      ],
      "metadata": {
        "id": "XQ1JBU8HU2rB",
        "colab": {
          "base_uri": "https://localhost:8080/"
        },
        "outputId": "aa77c74a-46db-4d14-b19f-e11f94e94608"
      },
      "execution_count": 8,
      "outputs": [
        {
          "output_type": "stream",
          "name": "stdout",
          "text": [
            "Matrix 'b' after applying for loop:\n",
            "[[ 2. 30. 60. 70. 80.]\n",
            " [ 0.  1. 50. 50. 90.]\n",
            " [ 1.  2. 40. 60. 70.]\n",
            " [ 0.  1. 30. 60. 80.]\n",
            " [ 2.  2. 50. 70. 90.]]\n"
          ]
        }
      ]
    },
    {
      "cell_type": "code",
      "source": [
        "#7) Add matrix a and b."
      ],
      "metadata": {
        "id": "cGLGumrK8iEg"
      },
      "execution_count": null,
      "outputs": []
    },
    {
      "cell_type": "code",
      "source": [
        "sum_matrix = a + b\n",
        "\n",
        "print(\"Sum of matrices 'a' and 'b':\")\n",
        "print(sum_matrix)"
      ],
      "metadata": {
        "colab": {
          "base_uri": "https://localhost:8080/"
        },
        "id": "mbAaSjuV-aya",
        "outputId": "17617d01-8c9a-4feb-9517-0ba328de7def"
      },
      "execution_count": 9,
      "outputs": [
        {
          "output_type": "stream",
          "name": "stdout",
          "text": [
            "Sum of matrices 'a' and 'b':\n",
            "[[ 4. 33. 66. 77. 88.]\n",
            " [ 0.  2. 55. 55. 99.]\n",
            " [ 2.  4. 44. 66. 77.]\n",
            " [ 0.  2. 33. 66. 88.]\n",
            " [ 4.  4. 55. 77. 99.]]\n"
          ]
        }
      ]
    },
    {
      "cell_type": "code",
      "source": [
        "#8) Subtract matrix b from a"
      ],
      "metadata": {
        "id": "3CuGHLXP-e45"
      },
      "execution_count": null,
      "outputs": []
    },
    {
      "cell_type": "code",
      "source": [
        "diff_matrix = a - b\n",
        "\n",
        "print(\"Subtraction of matrix 'b' from 'a':\")\n",
        "print(diff_matrix)"
      ],
      "metadata": {
        "colab": {
          "base_uri": "https://localhost:8080/"
        },
        "id": "ockrrNJ7-rg9",
        "outputId": "411026b3-b8d2-42dd-d55e-e618a2f74a28"
      },
      "execution_count": 10,
      "outputs": [
        {
          "output_type": "stream",
          "name": "stdout",
          "text": [
            "Subtraction of matrix 'b' from 'a':\n",
            "[[  0. -27. -54. -63. -72.]\n",
            " [  0.   0. -45. -45. -81.]\n",
            " [  0.   0. -36. -54. -63.]\n",
            " [  0.   0. -27. -54. -72.]\n",
            " [  0.   0. -45. -63. -81.]]\n"
          ]
        }
      ]
    },
    {
      "cell_type": "code",
      "source": [
        "#9) Multiply matrix a by b element wise and matrix multiplication"
      ],
      "metadata": {
        "id": "6jmMqjR0-sbL"
      },
      "execution_count": null,
      "outputs": []
    },
    {
      "cell_type": "code",
      "source": [
        "elementwise_product = a * b\n",
        "\n",
        "print(\"Element-wise multiplication of matrices 'a' and 'b':\")\n",
        "print(elementwise_product)"
      ],
      "metadata": {
        "colab": {
          "base_uri": "https://localhost:8080/"
        },
        "id": "JKF45cZF_TkP",
        "outputId": "6450e683-d1cc-4828-a6db-34258a8b9339"
      },
      "execution_count": 11,
      "outputs": [
        {
          "output_type": "stream",
          "name": "stdout",
          "text": [
            "Element-wise multiplication of matrices 'a' and 'b':\n",
            "[[  4.  90. 360. 490. 640.]\n",
            " [  0.   1. 250. 250. 810.]\n",
            " [  1.   4. 160. 360. 490.]\n",
            " [  0.   1.  90. 360. 640.]\n",
            " [  4.   4. 250. 490. 810.]]\n"
          ]
        }
      ]
    },
    {
      "cell_type": "code",
      "source": [
        "# Matrix multiplication (Dot product)\n",
        "matrix_product = np.dot(a, b)\n",
        "\n",
        "print(\"Matrix multiplication of matrices 'a' and 'b':\")\n",
        "print(matrix_product)"
      ],
      "metadata": {
        "colab": {
          "base_uri": "https://localhost:8080/"
        },
        "id": "LXAR2xKI_XmJ",
        "outputId": "c50792a3-228c-4047-d8bf-983cd4394201"
      },
      "execution_count": 12,
      "outputs": [
        {
          "output_type": "stream",
          "name": "stdout",
          "text": [
            "Matrix multiplication of matrices 'a' and 'b':\n",
            "[[  26.   98. 1120. 1630. 2130.]\n",
            " [  23.   34.  850. 1280. 1650.]\n",
            " [  20.   60.  850. 1260. 1650.]\n",
            " [  19.   29.  750. 1150. 1500.]\n",
            " [  27.   97. 1080. 1590. 2060.]]\n"
          ]
        }
      ]
    },
    {
      "cell_type": "code",
      "source": [
        "#10) Divide each element of matrix a and b by 18."
      ],
      "metadata": {
        "id": "UYHnVwLUAAqK"
      },
      "execution_count": null,
      "outputs": []
    },
    {
      "cell_type": "code",
      "source": [
        "a_divided = a / 18\n",
        "b_divided = b / 18\n",
        "\n",
        "print(\"Matrix 'a' after element-wise division:\")\n",
        "print(a_divided)\n",
        "\n",
        "print(\"Matrix 'b' after element-wise division:\")\n",
        "print(b_divided)"
      ],
      "metadata": {
        "colab": {
          "base_uri": "https://localhost:8080/"
        },
        "id": "ydov3g48AzYE",
        "outputId": "7100934d-2976-4786-a006-f66e540032c7"
      },
      "execution_count": 13,
      "outputs": [
        {
          "output_type": "stream",
          "name": "stdout",
          "text": [
            "Matrix 'a' after element-wise division:\n",
            "[[0.11111111 0.16666667 0.33333333 0.38888889 0.44444444]\n",
            " [0.         0.05555556 0.27777778 0.27777778 0.5       ]\n",
            " [0.05555556 0.11111111 0.22222222 0.33333333 0.38888889]\n",
            " [0.         0.05555556 0.16666667 0.33333333 0.44444444]\n",
            " [0.11111111 0.11111111 0.27777778 0.38888889 0.5       ]]\n",
            "Matrix 'b' after element-wise division:\n",
            "[[0.11111111 1.66666667 3.33333333 3.88888889 4.44444444]\n",
            " [0.         0.05555556 2.77777778 2.77777778 5.        ]\n",
            " [0.05555556 0.11111111 2.22222222 3.33333333 3.88888889]\n",
            " [0.         0.05555556 1.66666667 3.33333333 4.44444444]\n",
            " [0.11111111 0.11111111 2.77777778 3.88888889 5.        ]]\n"
          ]
        }
      ]
    },
    {
      "cell_type": "code",
      "source": [
        "#11) find the inverse, rank, condition number, singular value decomposition and the norm of matrices a and b."
      ],
      "metadata": {
        "id": "2ZctpMNsA3sh"
      },
      "execution_count": null,
      "outputs": []
    },
    {
      "cell_type": "code",
      "source": [
        "  import numpy as np\n",
        "\n",
        "# Assuming 'a' and 'b' are the matrices  we have created in pervious question\n",
        "# Inverse of matrix 'a'\n",
        "try:\n",
        "    inverse_a = np.linalg.inv(a)\n",
        "    print(\"Inverse of matrix 'a':\")\n",
        "    print(inverse_a)\n",
        "except np.linalg.LinAlgError:\n",
        "    print(\"Matrix 'a' is not invertible.\")\n",
        "\n",
        "# Inverse of matrix 'b'\n",
        "try:\n",
        "    inverse_b = np.linalg.inv(b)\n",
        "    print(\"Inverse of matrix 'b':\")\n",
        "    print(inverse_b)\n",
        "except np.linalg.LinAlgError:\n",
        "    print(\"Matrix 'b' is not invertible.\")\n",
        "\n",
        "# Rank of matrix 'a'\n",
        "rank_a = np.linalg.matrix_rank(a)\n",
        "print(\"Rank of matrix 'a':\", rank_a)\n",
        "\n",
        "# Rank of matrix 'b'\n",
        "rank_b = np.linalg.matrix_rank(b)\n",
        "print(\"Rank of matrix 'b':\", rank_b)\n",
        "\n",
        "# Condition number of matrix 'a'\n",
        "condition_number_a = np.linalg.cond(a)\n",
        "print(\"Condition number of matrix 'a':\", condition_number_a)\n",
        "\n",
        "# Condition number of matrix 'b'\n",
        "condition_number_b = np.linalg.cond(b)\n",
        "print(\"Condition number of matrix 'b':\", condition_number_b)\n",
        "\n",
        "# Singular value decomposition (SVD) of matrix 'a'\n",
        "U_a, S_a, Vt_a = np.linalg.svd(a)\n",
        "print(\"Singular Value Decomposition of matrix 'a':\")\n",
        "print(\"U_a:\", U_a)\n",
        "print(\"S_a:\", S_a)\n",
        "print(\"Vt_a:\", Vt_a)\n",
        "\n",
        "# Singular value decomposition (SVD) of matrix 'b'\n",
        "U_b, S_b, Vt_b = np.linalg.svd(b)\n",
        "print(\"Singular Value Decomposition of matrix 'b':\")\n",
        "print(\"U_b:\", U_b)\n",
        "print(\"S_b:\", S_b)\n",
        "print(\"Vt_b:\", Vt_b)\n",
        "\n",
        "# Norm of matrix 'a'\n",
        "norm_a = np.linalg.norm(a)\n",
        "print(\"Norm of matrix 'a':\", norm_a)\n",
        "\n",
        "# Norm of matrix 'b'\n",
        "norm_b = np.linalg.norm(b)\n",
        "print(\"Norm of matrix 'b':\", norm_b)"
      ],
      "metadata": {
        "colab": {
          "base_uri": "https://localhost:8080/"
        },
        "id": "PTZakw6wB6Tg",
        "outputId": "8b1e86b3-02c4-4177-86d8-824f410e80e4"
      },
      "execution_count": 26,
      "outputs": [
        {
          "output_type": "stream",
          "name": "stdout",
          "text": [
            "Inverse of matrix 'a':\n",
            "[[-1.00000000e+00  4.44089210e-16  1.00000000e+00 -1.00000000e+00\n",
            "   1.00000000e+00]\n",
            " [-1.06666667e+01  2.33333333e+00  1.93333333e+01 -1.00000000e+01\n",
            "   1.00000000e+00]\n",
            " [ 6.00000000e+00 -1.00000000e+00 -1.00000000e+01  5.00000000e+00\n",
            "  -1.00000000e+00]\n",
            " [ 6.33333333e+00 -1.66666667e+00 -1.06666667e+01  6.00000000e+00\n",
            "  -1.00000000e+00]\n",
            " [-5.66666667e+00  1.33333333e+00  9.33333333e+00 -5.00000000e+00\n",
            "   1.00000000e+00]]\n",
            "Inverse of matrix 'b':\n",
            "[[ 0.00348432 -0.2195122  -0.81881533 -0.05923345  0.90592334]\n",
            " [ 0.03716609 -0.00813008 -0.06736353  0.03484321 -0.00348432]\n",
            " [-0.00209059  0.03170732  0.0912892  -0.06445993 -0.04355401]\n",
            " [-0.00220674 -0.02764228  0.08524971  0.00418118 -0.04041812]\n",
            " [ 0.00197445  0.00894309 -0.09732869  0.03310105  0.0466899 ]]\n",
            "Rank of matrix 'a': 5\n",
            "Rank of matrix 'b': 5\n",
            "Condition number of matrix 'a': 852.5172125019204\n",
            "Condition number of matrix 'b': 317.3385418361312\n",
            "Singular Value Decomposition of matrix 'a':\n",
            "U_a: [[-0.48968469  0.6217437  -0.22808617 -0.34503195 -0.45008146]\n",
            " [-0.44002943 -0.55082693 -0.70143832 -0.03363068  0.09908106]\n",
            " [-0.39957391  0.14586297  0.26443501 -0.36724703  0.78375278]\n",
            " [-0.40177994 -0.5096386   0.60410116 -0.20985866 -0.4121438 ]\n",
            " [-0.49547611  0.17034366  0.14524768  0.83720421  0.05898037]]\n",
            "S_a: [25.70967289  2.91141864  1.71269268  0.77597407  0.03015737]\n",
            "Vt_a: [[-0.09217914 -0.15951053 -0.40526658 -0.54082352 -0.71367241]\n",
            " [ 0.59422498  0.49363524  0.30314498  0.20877214 -0.51743429]\n",
            " [ 0.05766243  0.02205282 -0.74702643  0.65636761 -0.08556745]\n",
            " [ 0.79525531 -0.43644605 -0.19444995 -0.23915964  0.28648861]\n",
            " [ 0.05141705  0.73478511 -0.38471139 -0.41941428  0.36542569]]\n",
            "Singular Value Decomposition of matrix 'b':\n",
            "U_b: [[-0.48597816  0.85049027  0.00836236 -0.20100891 -0.00412576]\n",
            " [-0.44721111 -0.28960184  0.82036439 -0.1135571   0.17389666]\n",
            " [-0.39571096 -0.09188364 -0.31436625  0.54119534  0.6657715 ]\n",
            " [-0.40779575 -0.3896172  -0.46286846 -0.68266838  0.04022105]\n",
            " [-0.49085936 -0.18042425 -0.11772422  0.43332631 -0.72448154]]\n",
            "S_b: [253.31753128  29.88024673  16.86269218   8.45053856   0.79825643]\n",
            "Vt_b: [[-0.00927447 -0.06792855 -0.4110435  -0.54851942 -0.72489267]\n",
            " [ 0.04177504  0.81294085  0.40710004  0.11828812 -0.3970636 ]\n",
            " [-0.03161357 -0.01517042  0.54398469 -0.78701509  0.28889159]\n",
            " [ 0.11902557 -0.57717616  0.60300157  0.24802922 -0.47704424]\n",
            " [-0.99146474 -0.03391799  0.07604318  0.06498556 -0.07643006]]\n",
            "Norm of matrix 'a': 25.942243542145693\n",
            "Norm of matrix 'b': 255.77138229285933\n"
          ]
        }
      ]
    },
    {
      "cell_type": "code",
      "source": [
        "# Rank of matrices\n",
        "rank_a = np.linalg.matrix_rank(a)\n",
        "rank_b = np.linalg.matrix_rank(b)\n",
        "print(\"Rank of matrix 'a':\", rank_a)\n",
        "print(\"Rank of matrix 'b':\", rank_b)\n"
      ],
      "metadata": {
        "colab": {
          "base_uri": "https://localhost:8080/"
        },
        "id": "opXGGxlCCS6T",
        "outputId": "0648c66c-b589-4df2-8d13-5806cd1f4e82"
      },
      "execution_count": 15,
      "outputs": [
        {
          "output_type": "stream",
          "name": "stdout",
          "text": [
            "Rank of matrix 'a': 5\n",
            "Rank of matrix 'b': 5\n"
          ]
        }
      ]
    },
    {
      "cell_type": "code",
      "source": [
        "# Condition number of matrices\n",
        "cond_a = np.linalg.cond(a)\n",
        "cond_b = np.linalg.cond(b)\n",
        "print(\"Condition number of matrix 'a':\", cond_a)\n",
        "print(\"Condition number of matrix 'b':\", cond_b)"
      ],
      "metadata": {
        "colab": {
          "base_uri": "https://localhost:8080/"
        },
        "id": "qmU2AdqIDOH8",
        "outputId": "23b461a6-320a-4007-c7f6-83fb28434516"
      },
      "execution_count": 16,
      "outputs": [
        {
          "output_type": "stream",
          "name": "stdout",
          "text": [
            "Condition number of matrix 'a': 852.5172125019204\n",
            "Condition number of matrix 'b': 317.3385418361312\n"
          ]
        }
      ]
    },
    {
      "cell_type": "code",
      "source": [
        "# Singular Value Decomposition (SVD)\n",
        "u_a, s_a, vh_a = np.linalg.svd(a)\n",
        "u_b, s_b, vh_b = np.linalg.svd(b)\n",
        "print(\"Singular Value Decomposition of matrix 'a':\")\n",
        "print(\"U:\")\n",
        "print(u_a)\n",
        "print(\"Singular values:\")\n",
        "print(s_a)\n",
        "print(\"V^H:\")\n",
        "print(vh_a)\n",
        "print(\"Singular Value Decomposition of matrix 'b':\")\n",
        "print(\"U:\")\n",
        "print(u_b)\n",
        "print(\"Singular values:\")\n",
        "print(s_b)\n",
        "print(\"V^H:\")\n",
        "print(vh_b)"
      ],
      "metadata": {
        "colab": {
          "base_uri": "https://localhost:8080/"
        },
        "id": "zAzMynHFDVWn",
        "outputId": "68c888f7-e1db-45de-ea95-8a713560c5f9"
      },
      "execution_count": 17,
      "outputs": [
        {
          "output_type": "stream",
          "name": "stdout",
          "text": [
            "Singular Value Decomposition of matrix 'a':\n",
            "U:\n",
            "[[-0.48968469  0.6217437  -0.22808617 -0.34503195 -0.45008146]\n",
            " [-0.44002943 -0.55082693 -0.70143832 -0.03363068  0.09908106]\n",
            " [-0.39957391  0.14586297  0.26443501 -0.36724703  0.78375278]\n",
            " [-0.40177994 -0.5096386   0.60410116 -0.20985866 -0.4121438 ]\n",
            " [-0.49547611  0.17034366  0.14524768  0.83720421  0.05898037]]\n",
            "Singular values:\n",
            "[25.70967289  2.91141864  1.71269268  0.77597407  0.03015737]\n",
            "V^H:\n",
            "[[-0.09217914 -0.15951053 -0.40526658 -0.54082352 -0.71367241]\n",
            " [ 0.59422498  0.49363524  0.30314498  0.20877214 -0.51743429]\n",
            " [ 0.05766243  0.02205282 -0.74702643  0.65636761 -0.08556745]\n",
            " [ 0.79525531 -0.43644605 -0.19444995 -0.23915964  0.28648861]\n",
            " [ 0.05141705  0.73478511 -0.38471139 -0.41941428  0.36542569]]\n",
            "Singular Value Decomposition of matrix 'b':\n",
            "U:\n",
            "[[-0.48597816  0.85049027  0.00836236 -0.20100891 -0.00412576]\n",
            " [-0.44721111 -0.28960184  0.82036439 -0.1135571   0.17389666]\n",
            " [-0.39571096 -0.09188364 -0.31436625  0.54119534  0.6657715 ]\n",
            " [-0.40779575 -0.3896172  -0.46286846 -0.68266838  0.04022105]\n",
            " [-0.49085936 -0.18042425 -0.11772422  0.43332631 -0.72448154]]\n",
            "Singular values:\n",
            "[253.31753128  29.88024673  16.86269218   8.45053856   0.79825643]\n",
            "V^H:\n",
            "[[-0.00927447 -0.06792855 -0.4110435  -0.54851942 -0.72489267]\n",
            " [ 0.04177504  0.81294085  0.40710004  0.11828812 -0.3970636 ]\n",
            " [-0.03161357 -0.01517042  0.54398469 -0.78701509  0.28889159]\n",
            " [ 0.11902557 -0.57717616  0.60300157  0.24802922 -0.47704424]\n",
            " [-0.99146474 -0.03391799  0.07604318  0.06498556 -0.07643006]]\n"
          ]
        }
      ]
    },
    {
      "cell_type": "code",
      "source": [
        "# Norms of matrices\n",
        "norm_a = np.linalg.norm(a)\n",
        "norm_b = np.linalg.norm(b)\n",
        "print(\"Norm of matrix 'a':\", norm_a)\n",
        "print(\"Norm of matrix 'b':\", norm_b)"
      ],
      "metadata": {
        "colab": {
          "base_uri": "https://localhost:8080/"
        },
        "id": "P_eXI9osDhza",
        "outputId": "b1dbb8f6-e05e-4dac-eaf3-2f542f1bdd78"
      },
      "execution_count": 18,
      "outputs": [
        {
          "output_type": "stream",
          "name": "stdout",
          "text": [
            "Norm of matrix 'a': 25.942243542145693\n",
            "Norm of matrix 'b': 255.77138229285933\n"
          ]
        }
      ]
    },
    {
      "cell_type": "code",
      "source": [
        "#12) find the norm, inner product and outer product of column vector."
      ],
      "metadata": {
        "id": "rlch2hy3Dqj2"
      },
      "execution_count": null,
      "outputs": []
    },
    {
      "cell_type": "code",
      "source": [
        "import numpy as np\n",
        "\n",
        "# Create a column vector manually\n",
        "column_vector = np.array([[1], [2], [3], [4], [5]])\n",
        "\n",
        "# Calculate the norm of the column vector\n",
        "norm = np.linalg.norm(column_vector)\n",
        "print(\"Norm of the column vector:\", norm)\n",
        "\n",
        "# Create another column vector for inner product\n",
        "inner_product_vector = np.array([[2], [4], [6], [8], [10]])\n",
        "\n",
        "# Calculate the inner product of the two column vectors\n",
        "inner_product = np.inner(column_vector.flatten(), inner_product_vector.flatten())\n",
        "print(\"Inner product of the column vectors:\", inner_product)\n",
        "\n",
        "# Calculate the outer product of the two column vectors\n",
        "outer_product = np.outer(column_vector, inner_product_vector.T)\n",
        "print(\"Outer product of the column vectors:\")\n",
        "print(outer_product)"
      ],
      "metadata": {
        "colab": {
          "base_uri": "https://localhost:8080/"
        },
        "id": "XqloJ-y_D3HY",
        "outputId": "a023fc5f-8424-4387-db11-efe36946d978"
      },
      "execution_count": 23,
      "outputs": [
        {
          "output_type": "stream",
          "name": "stdout",
          "text": [
            "Norm of the column vector: 7.416198487095663\n",
            "Inner product of the column vectors: 110\n",
            "Outer product of the column vectors:\n",
            "[[ 2  4  6  8 10]\n",
            " [ 4  8 12 16 20]\n",
            " [ 6 12 18 24 30]\n",
            " [ 8 16 24 32 40]\n",
            " [10 20 30 40 50]]\n"
          ]
        }
      ]
    },
    {
      "cell_type": "code",
      "source": [
        "#13) Write a function called derivative which takes input parameters f(x), a, method (forward,backward and central) and h(step size) (with default values method=‘central’ and h = 0.01) and returns the\n",
        "      #corresponding difference formula for derivative of function at a with step size h and then test your function on e x and cos x at x = 0.5."
      ],
      "metadata": {
        "id": "L7QL0XY6EDKh"
      },
      "execution_count": 1,
      "outputs": []
    },
    {
      "cell_type": "code",
      "source": [
        "import math\n",
        "\n",
        "def derivative(f, a, method='central', h=0.01):\n",
        "    # Implementation of the numerical derivative using different methods.\n",
        "    # Returns the approximate derivative of function f at point a.\n",
        "    if method == 'forward':\n",
        "        return (f(a + h) - f(a)) / h# using first derivative formula\n",
        "    elif method == 'backward':\n",
        "        return (f(a) - f(a - h)) / h\n",
        "    elif method == 'central':\n",
        "        return (f(a + h) - f(a - h)) / (2 * h)\n",
        "    else:\n",
        "        raise ValueError(\"Invalid method, supported methods are 'forward', 'backward', and 'central'.\")\n",
        "\n",
        "def ex(x):#an maths function for determining exponent\n",
        "    return math.exp(x)\n",
        "\n",
        "def cos(x):# an maths function for determining cosine\n",
        "    return math.cos(x)\n",
        "\n",
        "\n",
        "x = 0.5 # value of x is intialized\n",
        "\n",
        "derivative_ex_forward = derivative(ex, x, method='forward')# for x =0.5 forward derivative is carried out in ex()\n",
        "derivative_ex_backward = derivative(ex, x, method='backward')#for x =0.5 backward derivative is carried out in ex()\n",
        "derivative_ex_central = derivative(ex, x, method='central')#for x =0.5 central derivative is carried out in ex()\n",
        "\n",
        "derivative_cos_forward = derivative(cos, x, method='forward')#for x =0.5 forward derivative is carried out in cos()\n",
        "derivative_cos_backward = derivative(cos, x, method='backward')#for x =0.5 backward derivative is carried out in cos()\n",
        "derivative_cos_central = derivative(cos, x, method='central')#for x =0.5 backward derivative is carried out in cos()\n",
        "\n",
        "print(\"Testing on ex(x) at x =\",x)\n",
        "print(\"Forward difference:\", derivative_ex_forward)\n",
        "print(\"Backward difference:\", derivative_ex_backward)\n",
        "print(\"Central difference:\", derivative_ex_central)\n",
        "\n",
        "print(\"\\nTesting on cos(x) at x =\",x)\n",
        "print(\"Forward difference:\", derivative_cos_forward)\n",
        "print(\"Backward difference:\", derivative_cos_backward)\n",
        "print(\"Central difference:\", derivative_cos_central)\n"
      ],
      "metadata": {
        "colab": {
          "base_uri": "https://localhost:8080/"
        },
        "id": "1FF8FKlJhpX-",
        "outputId": "d6a7d306-0f72-44c6-bbac-c05a573b545b"
      },
      "execution_count": 24,
      "outputs": [
        {
          "output_type": "stream",
          "name": "stdout",
          "text": [
            "Testing on ex(x) at x = 0.5\n",
            "Forward difference: 1.6569924245758205\n",
            "Backward difference: 1.6405050744749294\n",
            "Central difference: 1.648748749525375\n",
            "\n",
            "Testing on cos(x) at x = 0.5\n",
            "Forward difference: -0.483805424462147\n",
            "Backward difference: -0.4750296719748692\n",
            "Central difference: -0.4794175482185081\n"
          ]
        }
      ]
    },
    {
      "cell_type": "code",
      "source": [
        "# 14) Download the Automatic Weather Station AWS Data. Read the .csv file using pandas library as a DataFrame"
      ],
      "metadata": {
        "id": "Tm7RlFybhsM3"
      },
      "execution_count": 27,
      "outputs": []
    },
    {
      "cell_type": "code",
      "source": [
        "import pandas as pd\n",
        "\n",
        "# Provide the path to your CSV file\n",
        "csv_file_path = \"/content/surface_data.csv\"\n",
        "\n",
        "# Read the CSV file into a DataFrame\n",
        "df = pd.read_csv(csv_file_path)\n",
        "\n",
        "# Display the first few rows of the DataFrame\n",
        "print(df.head())"
      ],
      "metadata": {
        "id": "Wv2McLQq45ul",
        "colab": {
          "base_uri": "https://localhost:8080/"
        },
        "outputId": "9500122f-261d-4cf8-9e36-14b0c003be34"
      },
      "execution_count": 32,
      "outputs": [
        {
          "output_type": "stream",
          "name": "stdout",
          "text": [
            "      obstime     tempr        ap      ws       wd       rh\n",
            "0  1985-02-26  -10.0000  983.0250  16.125   11.750   64.875\n",
            "1  1985-02-27  -12.6250  981.5750   5.875   29.250   58.625\n",
            "2  1985-02-28  -17.1875  983.7750   3.000   99.000   55.125\n",
            "3  1985-03-01 -507.6250  986.3375  19.125 -493.625 -999.000\n",
            "4  1985-03-02 -257.3125  497.7500  33.875 -243.000 -224.125\n"
          ]
        }
      ]
    },
    {
      "cell_type": "code",
      "source": [],
      "metadata": {
        "id": "rBqxva8fcZDB"
      },
      "execution_count": null,
      "outputs": []
    }
  ]
}