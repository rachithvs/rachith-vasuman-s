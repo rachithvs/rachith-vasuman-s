{
  "nbformat": 4,
  "nbformat_minor": 0,
  "metadata": {
    "colab": {
      "provenance": [],
      "include_colab_link": true
    },
    "kernelspec": {
      "name": "python3",
      "display_name": "Python 3"
    },
    "language_info": {
      "name": "python"
    }
  },
  "cells": [
    {
      "cell_type": "markdown",
      "metadata": {
        "id": "view-in-github",
        "colab_type": "text"
      },
      "source": [
        "<a href=\"https://colab.research.google.com/github/rachithvs/rachith-vasuman-s/blob/main/Shivesh_kumar_verma_231030056_Assignment_1.ipynb\" target=\"_parent\"><img src=\"https://colab.research.google.com/assets/colab-badge.svg\" alt=\"Open In Colab\"/></a>"
      ]
    },
    {
      "cell_type": "code",
      "execution_count": null,
      "metadata": {
        "colab": {
          "base_uri": "https://localhost:8080/"
        },
        "id": "aDUZqEIJToTv",
        "outputId": "467107e9-aa0a-4fc8-e25b-72a4049dfcdc"
      },
      "outputs": [
        {
          "output_type": "stream",
          "name": "stdout",
          "text": [
            "Enter values for row vector (in space separated): 1 2 6 5 8 7\n",
            "Enter values for column vector (in space separated): 2 5 6 8 6\n",
            "Row Vector:\n",
            "[1. 2. 6. 5. 8. 7.]\n",
            "Column Vector:\n",
            "[[2.]\n",
            " [5.]\n",
            " [6.]\n",
            " [8.]\n",
            " [6.]]\n"
          ]
        }
      ],
      "source": [
        "import numpy as np\n",
        "\n",
        "# Using input method to create a row vector\n",
        "row_vector_entry = input(\"Enter values for row vector (in space separated): \")\n",
        "row_vector = np.array([float(val) for val in row_vector_entry.split()])\n",
        "# split () method splits a string into a list\n",
        "\n",
        "\n",
        "# Using input method to create a column vector\n",
        "column_vector_entry = input(\"Enter values for column vector (in space separated): \")\n",
        "c_vector = np.array([float(val) for val in column_vector_entry.split()]).reshape(-1, 1)\n",
        "#The reshape() is used to give a new shape to an array without changing its data. It enables us to change the dimensions of the array elements.\n",
        "\n",
        "\n",
        "print(\"Row Vector:\")\n",
        "print(row_vector)\n",
        "\n",
        "print(\"Column Vector:\")\n",
        "print(c_vector)\n"
      ]
    },
    {
      "cell_type": "code",
      "source": [
        "import numpy as np\n",
        "\n",
        "# Creating a row vector as fixed data is entered\n",
        "row_vector = np.array([55, 25, 25, 44])\n",
        "\n",
        "# Creating a column vector as fixed data is entered\n",
        "c_vector = np.array([[45], [96], [74], [88]])\n",
        "\n",
        "print(\"Row Vector:\")\n",
        "print(row_vector)\n",
        "\n",
        "print(\"Column Vector:\")\n",
        "print(c_vector)\n"
      ],
      "metadata": {
        "id": "BnJbBaDuTsDQ",
        "colab": {
          "base_uri": "https://localhost:8080/"
        },
        "outputId": "8c0148bf-a27e-4033-a6b1-a8dccfee097b"
      },
      "execution_count": null,
      "outputs": [
        {
          "output_type": "stream",
          "name": "stdout",
          "text": [
            "Row Vector:\n",
            "[55 25 25 44]\n",
            "Column Vector:\n",
            "[[45]\n",
            " [96]\n",
            " [74]\n",
            " [88]]\n"
          ]
        }
      ]
    },
    {
      "cell_type": "markdown",
      "source": [
        "Question 2"
      ],
      "metadata": {
        "id": "B3poEyziVasx"
      }
    },
    {
      "cell_type": "code",
      "source": [
        "import numpy as np\n",
        "\n",
        "# Using input method to create a matrix\n",
        "matrix_input = []\n",
        "for i in range(5):\n",
        "    row_input = input(f\"Enter values for row {i+1} (space-separated): \")\n",
        "    row = [float(val) for val in row_input.split()]\n",
        "    matrix_input.append(row)\n",
        "\n",
        "a = np.array(matrix_input)\n",
        "\n",
        "print(\"Matrix 'a':\")\n",
        "print(a)\n"
      ],
      "metadata": {
        "id": "U4-vUy2RVXr5",
        "colab": {
          "base_uri": "https://localhost:8080/"
        },
        "outputId": "82ebae14-baf3-4ce4-e1f3-531eb75484ae"
      },
      "execution_count": null,
      "outputs": [
        {
          "output_type": "stream",
          "name": "stdout",
          "text": [
            "Enter values for row 1 (space-separated): 1 5 9 6 4\n",
            "Enter values for row 2 (space-separated): 4 6 3 5 9 \n",
            "Enter values for row 3 (space-separated):  56 56 42 89 99\n",
            "Enter values for row 4 (space-separated): 1 56 4 89 69\n",
            "Enter values for row 5 (space-separated): 2 69 56 25 14\n",
            "Matrix 'a':\n",
            "[[ 1.  5.  9.  6.  4.]\n",
            " [ 4.  6.  3.  5.  9.]\n",
            " [56. 56. 42. 89. 99.]\n",
            " [ 1. 56.  4. 89. 69.]\n",
            " [ 2. 69. 56. 25. 14.]]\n"
          ]
        }
      ]
    },
    {
      "cell_type": "markdown",
      "source": [
        "Question 3"
      ],
      "metadata": {
        "id": "RsJUgSt_5ynL"
      }
    },
    {
      "cell_type": "code",
      "source": [
        "# Extracting the 3rd row\n",
        "third_row = a[2, :]\n",
        "\n",
        "print(\"3rd Row:\")\n",
        "print(third_row)"
      ],
      "metadata": {
        "id": "BJUSpXgl5Vfi",
        "colab": {
          "base_uri": "https://localhost:8080/"
        },
        "outputId": "4e9ca14e-b3fe-4aba-95c8-9edf1ad9cf99"
      },
      "execution_count": null,
      "outputs": [
        {
          "output_type": "stream",
          "name": "stdout",
          "text": [
            "3rd Row:\n",
            "[56. 56. 42. 89. 99.]\n"
          ]
        }
      ]
    },
    {
      "cell_type": "markdown",
      "source": [
        "Question 4"
      ],
      "metadata": {
        "id": "o6XY8nIv5gRk"
      }
    },
    {
      "cell_type": "code",
      "source": [
        "# Extracting the 4th column\n",
        "fourth_column = a[:, 3]\n",
        "\n",
        "print(\"4th Column:\")\n",
        "print(fourth_column)"
      ],
      "metadata": {
        "id": "AQ9v278_6B0F",
        "colab": {
          "base_uri": "https://localhost:8080/"
        },
        "outputId": "334914af-2f0f-4d6c-f6b9-9fc7d575946c"
      },
      "execution_count": null,
      "outputs": [
        {
          "output_type": "stream",
          "name": "stdout",
          "text": [
            "4th Column:\n",
            "[ 6.  5. 89. 89. 25.]\n"
          ]
        }
      ]
    },
    {
      "cell_type": "markdown",
      "source": [
        "Question 6"
      ],
      "metadata": {
        "id": "1VpOGkgsAPiy"
      }
    },
    {
      "cell_type": "code",
      "source": [
        "a = [\n",
        "    [16, 25,36, 49, 64],\n",
        "    [81, 9, 4, 1, 0],\n",
        "    [14, 35, 56, 63, 12],\n",
        "    [6, 12, 18, 24, 18],\n",
        "    [25, 32, 55, 244, 121]\n",
        "]\n",
        "\n",
        "\n",
        "# Sort matrix row-wise\n",
        "for row in a:\n",
        "    row.sort()\n",
        "\n",
        "# Transpose the matrix for column-wise sorting\n",
        "transposed_a = [[a[j][i] for j in range(len(a))] for i in range(len(a[0]))]\n",
        "\n",
        "# Sort transposed matrix (column-wise sorting)\n",
        "for row in transposed_a:\n",
        "    row.sort()\n",
        "\n",
        "# Transpose the sorted matrix back to get the original orientation\n",
        "sorted_a = [[transposed_a[j][i] for j in range(len(transposed_a))] for i in range(len(transposed_a[0]))]\n",
        "\n",
        "# Print sorted matrix row-wise\n",
        "print(\"Sorted Matrix Row-wise:\")\n",
        "for row in sorted_a:\n",
        "    print(row)\n",
        "\n",
        "# Transpose the sorted matrix again for printing sorted matrix column-wise\n",
        "sorted_column_a = [[sorted_a[j][i] for j in range(len(sorted_a))] for i in range(len(sorted_a[0]))]\n",
        "\n",
        "# Print sorted matrix column-wise\n",
        "print(\"Sorted Matrix Column-wise:\")\n",
        "for row in sorted_column_a:\n",
        "    print(row)"
      ],
      "metadata": {
        "id": "aF9CN0DG6Uew",
        "colab": {
          "base_uri": "https://localhost:8080/"
        },
        "outputId": "5b2755b9-5c8f-433d-a4f4-0b8276f7c2f8"
      },
      "execution_count": null,
      "outputs": [
        {
          "output_type": "stream",
          "name": "stdout",
          "text": [
            "Sorted Matrix Row-wise:\n",
            "[0, 1, 4, 9, 24]\n",
            "[6, 12, 18, 18, 63]\n",
            "[12, 14, 35, 49, 64]\n",
            "[16, 25, 36, 56, 81]\n",
            "[25, 32, 55, 121, 244]\n",
            "Sorted Matrix Column-wise:\n",
            "[0, 6, 12, 16, 25]\n",
            "[1, 12, 14, 25, 32]\n",
            "[4, 18, 35, 36, 55]\n",
            "[9, 18, 49, 56, 121]\n",
            "[24, 63, 64, 81, 244]\n"
          ]
        }
      ]
    },
    {
      "cell_type": "markdown",
      "source": [
        "\n",
        "Qujestion 6"
      ],
      "metadata": {
        "id": "7RytzV6EAVVa"
      }
    },
    {
      "cell_type": "code",
      "source": [
        "#  Assuming 'a' is the matrix we have created in previous question\n",
        "\n",
        "# Initialize an empty matrix 'b'\n",
        "b = []\n",
        "\n",
        "# Loop through each row in matrix 'a'\n",
        "for row in a:\n",
        "    new_row = []\n",
        "\n",
        "    # Loop through each element in the row\n",
        "    for element in row:\n",
        "        # Check if the element is greater than 2\n",
        "        if element > 2:\n",
        "            new_element = element * 10\n",
        "        else:\n",
        "            new_element = element\n",
        "\n",
        "        new_row.append(new_element)\n",
        "\n",
        "    b.append(new_row)\n",
        "\n",
        "# Print matrix 'b'\n",
        "print(\"Matrix 'b' (after multiplying elements > 2 by 10):\")\n",
        "for row in b:\n",
        "    print(row)"
      ],
      "metadata": {
        "id": "P-Ukbn8XATzZ",
        "colab": {
          "base_uri": "https://localhost:8080/"
        },
        "outputId": "10fc129b-9b9c-461d-8b9d-40f63380e081"
      },
      "execution_count": null,
      "outputs": [
        {
          "output_type": "stream",
          "name": "stdout",
          "text": [
            "Matrix 'b' (after multiplying elements > 2 by 10):\n",
            "[160, 250, 360, 490, 640]\n",
            "[0, 1, 40, 90, 810]\n",
            "[120, 140, 350, 560, 630]\n",
            "[60, 120, 180, 180, 240]\n",
            "[250, 320, 550, 1210, 2440]\n"
          ]
        }
      ]
    },
    {
      "cell_type": "markdown",
      "source": [
        "Question 7"
      ],
      "metadata": {
        "id": "KQ17tnIRBdtU"
      }
    },
    {
      "cell_type": "code",
      "source": [
        "\n",
        "# Initialize an empty matrix 'c'and auusming 'a' and 'b'to be earlier matrix\n",
        "c = []\n",
        "\n",
        "# Loop through each row in matrices 'a' and 'b'\n",
        "for row_a, row_b in zip(a, b):\n",
        "    new_row = []\n",
        "\n",
        "    # Loop through each element in the rows of 'a' and 'b'\n",
        "    for element_a, element_b in zip(row_a, row_b):\n",
        "        # Add corresponding elements from 'a' and 'b'\n",
        "        new_element = element_a + element_b\n",
        "        new_row.append(new_element)\n",
        "\n",
        "    c.append(new_row)\n",
        "\n",
        "# Print matrix 'c'\n",
        "print(\"Matrix 'c' (result of a + b):\")\n",
        "for row in c:\n",
        "    print(row)"
      ],
      "metadata": {
        "id": "CJ79HPd8Bfa9",
        "colab": {
          "base_uri": "https://localhost:8080/"
        },
        "outputId": "82053ec0-cd99-47d4-bbb6-cc0299eb9f70"
      },
      "execution_count": null,
      "outputs": [
        {
          "output_type": "stream",
          "name": "stdout",
          "text": [
            "Matrix 'c' (result of a + b):\n",
            "[176, 275, 396, 539, 704]\n",
            "[0, 2, 44, 99, 891]\n",
            "[132, 154, 385, 616, 693]\n",
            "[66, 132, 198, 198, 264]\n",
            "[275, 352, 605, 1331, 2684]\n"
          ]
        }
      ]
    },
    {
      "cell_type": "markdown",
      "source": [
        "Question 8"
      ],
      "metadata": {
        "id": "lbpzIfxqDSXY"
      }
    },
    {
      "cell_type": "code",
      "source": [
        "# Initialize an empty matrix 'd'\n",
        "d = []\n",
        "\n",
        "# Loop through each row in matrices 'a' and 'b'\n",
        "for row_a, row_b in zip(a, b):\n",
        "    new_row = []\n",
        "\n",
        "    # Loop through each element in the rows of 'a' and 'b'\n",
        "    for element_a, element_b in zip(row_a, row_b):\n",
        "        # Subtract corresponding elements of 'b' from 'a'\n",
        "        new_element = element_a - element_b\n",
        "        new_row.append(new_element)\n",
        "\n",
        "    d.append(new_row)\n",
        "\n",
        "# Print matrix 'd'\n",
        "print(\"Matrix 'd' (result of a - b):\")\n",
        "for row in d:\n",
        "    print(row)"
      ],
      "metadata": {
        "id": "Dh3RgEcTDS0l",
        "colab": {
          "base_uri": "https://localhost:8080/"
        },
        "outputId": "7427208f-093f-469a-d4d1-31d83599eca1"
      },
      "execution_count": null,
      "outputs": [
        {
          "output_type": "stream",
          "name": "stdout",
          "text": [
            "Matrix 'd' (result of a - b):\n",
            "[-144, -225, -324, -441, -576]\n",
            "[0, 0, -36, -81, -729]\n",
            "[-108, -126, -315, -504, -567]\n",
            "[-54, -108, -162, -162, -216]\n",
            "[-225, -288, -495, -1089, -2196]\n"
          ]
        }
      ]
    },
    {
      "cell_type": "markdown",
      "source": [
        "Question 9"
      ],
      "metadata": {
        "id": "lRAHgwLMD2It"
      }
    },
    {
      "cell_type": "code",
      "source": [
        "# Assuming 'a' and 'b' are the matrices we have created in earlier question\n",
        "\n",
        "# Element-wise multiplication of matrices 'a' and 'b'\n",
        "\n",
        "import numpy as np\n",
        "element_wise_product = np.multiply(a, b)\n",
        "\n",
        "# Matrix multiplication of matrices 'a' and 'b'\n",
        "matrix_product = np.dot(a, b)\n",
        "\n",
        "# Print element-wise product\n",
        "print(\"Element-wise Product of a and b:\")\n",
        "print(element_wise_product)\n",
        "\n",
        "# Print matrix product\n",
        "print(\"Matrix Product of a and b:\")\n",
        "print(matrix_product)"
      ],
      "metadata": {
        "id": "9r3hWhXpD4ux",
        "colab": {
          "base_uri": "https://localhost:8080/"
        },
        "outputId": "ad355671-9011-48d1-c342-99bdd8630687"
      },
      "execution_count": null,
      "outputs": [
        {
          "output_type": "stream",
          "name": "stdout",
          "text": [
            "Element-wise Product of a and b:\n",
            "[[  2560   6250  12960  24010  40960]\n",
            " [     0      1    160    810  65610]\n",
            " [  1440   1960  12250  31360  39690]\n",
            " [   360   1440   3240   3240   5760]\n",
            " [  6250  10240  30250 146410 595360]]\n",
            "Matrix Product of a and b:\n",
            "[[ 25820  35425  63380 116510 221090]\n",
            " [ 21270  27561  47610 101960 203130]\n",
            " [ 25230  34794  61860 113050 208230]\n",
            " [ 10200  13872  25380  46380  87780]\n",
            " [ 78860 106582 185510 362950 700970]]\n"
          ]
        }
      ]
    },
    {
      "cell_type": "markdown",
      "source": [
        "Question 10"
      ],
      "metadata": {
        "id": "QGECWF5bFkCB"
      }
    },
    {
      "cell_type": "code",
      "source": [
        "# Assuming 'a' and 'b' are the matrices we  have created in previous question\n",
        "\n",
        "# Divide each element of matrix 'a' by 18\n",
        "divided_a = [[element / 18 for element in row] for row in a]\n",
        "\n",
        "# Divide each element of matrix 'b' by 18\n",
        "divided_b = [[element / 18 for element in row] for row in b]\n",
        "\n",
        "# Print matrix 'a' after division\n",
        "print(\"Matrix 'a' after dividing each element by 18:\")\n",
        "for row in divided_a:\n",
        "    print(row)\n",
        "\n",
        "# Print matrix 'b' after division\n",
        "print(\"Matrix 'b' after dividing each element by 18:\")\n",
        "for row in divided_b:\n",
        "    print(row)"
      ],
      "metadata": {
        "id": "rBE057vXFoPU",
        "colab": {
          "base_uri": "https://localhost:8080/"
        },
        "outputId": "7d474037-8bab-42da-c109-989dc36eb790"
      },
      "execution_count": null,
      "outputs": [
        {
          "output_type": "stream",
          "name": "stdout",
          "text": [
            "Matrix 'a' after dividing each element by 18:\n",
            "[0.8888888888888888, 1.3888888888888888, 2.0, 2.7222222222222223, 3.5555555555555554]\n",
            "[0.0, 0.05555555555555555, 0.2222222222222222, 0.5, 4.5]\n",
            "[0.6666666666666666, 0.7777777777777778, 1.9444444444444444, 3.111111111111111, 3.5]\n",
            "[0.3333333333333333, 0.6666666666666666, 1.0, 1.0, 1.3333333333333333]\n",
            "[1.3888888888888888, 1.7777777777777777, 3.0555555555555554, 6.722222222222222, 13.555555555555555]\n",
            "Matrix 'b' after dividing each element by 18:\n",
            "[8.88888888888889, 13.88888888888889, 20.0, 27.22222222222222, 35.55555555555556]\n",
            "[0.0, 0.05555555555555555, 2.2222222222222223, 5.0, 45.0]\n",
            "[6.666666666666667, 7.777777777777778, 19.444444444444443, 31.11111111111111, 35.0]\n",
            "[3.3333333333333335, 6.666666666666667, 10.0, 10.0, 13.333333333333334]\n",
            "[13.88888888888889, 17.77777777777778, 30.555555555555557, 67.22222222222223, 135.55555555555554]\n"
          ]
        }
      ]
    },
    {
      "cell_type": "markdown",
      "source": [
        "Question 11"
      ],
      "metadata": {
        "id": "rcTF_-igGrXH"
      }
    },
    {
      "cell_type": "code",
      "source": [
        "\n",
        "\n",
        "\n",
        "import numpy as np\n",
        "\n",
        "# Assuming 'a' and 'b' are the matrices  we have created in pervious question\n",
        "# Inverse of matrix 'a'\n",
        "try:\n",
        "    inverse_a = np.linalg.inv(a)\n",
        "    print(\"Inverse of matrix 'a':\")\n",
        "    print(inverse_a)\n",
        "except np.linalg.LinAlgError:\n",
        "    print(\"Matrix 'a' is not invertible.\")\n",
        "\n",
        "# Inverse of matrix 'b'\n",
        "try:\n",
        "    inverse_b = np.linalg.inv(b)\n",
        "    print(\"Inverse of matrix 'b':\")\n",
        "    print(inverse_b)\n",
        "except np.linalg.LinAlgError:\n",
        "    print(\"Matrix 'b' is not invertible.\")\n",
        "\n",
        "# Rank of matrix 'a'\n",
        "rank_a = np.linalg.matrix_rank(a)\n",
        "print(\"Rank of matrix 'a':\", rank_a)\n",
        "\n",
        "# Rank of matrix 'b'\n",
        "rank_b = np.linalg.matrix_rank(b)\n",
        "print(\"Rank of matrix 'b':\", rank_b)\n",
        "\n",
        "# Condition number of matrix 'a'\n",
        "condition_number_a = np.linalg.cond(a)\n",
        "print(\"Condition number of matrix 'a':\", condition_number_a)\n",
        "\n",
        "# Condition number of matrix 'b'\n",
        "condition_number_b = np.linalg.cond(b)\n",
        "print(\"Condition number of matrix 'b':\", condition_number_b)\n",
        "\n",
        "# Singular value decomposition (SVD) of matrix 'a'\n",
        "U_a, S_a, Vt_a = np.linalg.svd(a)\n",
        "print(\"Singular Value Decomposition of matrix 'a':\")\n",
        "print(\"U_a:\", U_a)\n",
        "print(\"S_a:\", S_a)\n",
        "print(\"Vt_a:\", Vt_a)\n",
        "\n",
        "# Singular value decomposition (SVD) of matrix 'b'\n",
        "U_b, S_b, Vt_b = np.linalg.svd(b)\n",
        "print(\"Singular Value Decomposition of matrix 'b':\")\n",
        "print(\"U_b:\", U_b)\n",
        "print(\"S_b:\", S_b)\n",
        "print(\"Vt_b:\", Vt_b)\n",
        "\n",
        "# Norm of matrix 'a'\n",
        "norm_a = np.linalg.norm(a)\n",
        "print(\"Norm of matrix 'a':\", norm_a)\n",
        "\n",
        "# Norm of matrix 'b'\n",
        "norm_b = np.linalg.norm(b)\n",
        "print(\"Norm of matrix 'b':\", norm_b)"
      ],
      "metadata": {
        "id": "Sff-chiBGul2",
        "colab": {
          "base_uri": "https://localhost:8080/"
        },
        "outputId": "6bbb5c10-7b1f-44d6-c35d-93d03eff19f6"
      },
      "execution_count": null,
      "outputs": [
        {
          "output_type": "stream",
          "name": "stdout",
          "text": [
            "Inverse of matrix 'a':\n",
            "[[ 6.05930290e-01  2.35924872e-01  1.08695652e-01 -9.50672152e-01\n",
            "  -1.71807982e-01]\n",
            " [-2.03338751e-01 -1.49194095e-01 -1.52173913e-01  4.30863132e-01\n",
            "   9.97731275e-02]\n",
            " [ 2.60734119e-02  7.99133144e-02  8.69565217e-02 -1.84037654e-02\n",
            "  -5.40092103e-02]\n",
            " [-1.10490316e-01 -8.53988893e-02 -2.17391304e-02  1.28530069e-01\n",
            "   5.03013680e-02]\n",
            " [ 1.34994808e-02  1.97300104e-02  1.84997357e-18 -1.86915888e-02\n",
            "  -4.15368640e-03]]\n",
            "Inverse of matrix 'b':\n",
            "[[ 0.0567866   0.02079962  0.00802092 -0.0870016  -0.01531308]\n",
            " [-0.01792676 -0.01315326 -0.01341597  0.03798578  0.00879621]\n",
            " [ 0.00131801  0.00704532  0.00773075  0.00089164 -0.00476828]\n",
            " [-0.0096712  -0.00752894 -0.00114278  0.00993346  0.00435407]\n",
            " [ 0.00103162  0.00173944 -0.00023823 -0.00119464 -0.00025917]]\n",
            "Rank of matrix 'a': 5\n",
            "Rank of matrix 'b': 5\n",
            "Condition number of matrix 'a': 412.1765222794268\n",
            "Condition number of matrix 'b': 374.37423068088077\n",
            "Singular Value Decomposition of matrix 'a':\n",
            "U_a: [[-0.2797398   0.50231559  0.58625908  0.27676794 -0.49912372]\n",
            " [-0.23314142 -0.63953699  0.48351286 -0.50275143 -0.22381652]\n",
            " [-0.28041121  0.49623696 -0.31576186 -0.74753932 -0.12883266]\n",
            " [-0.10860066  0.24612297  0.49730812 -0.145853    0.81181335]\n",
            " [-0.88145685 -0.17844847 -0.27476297  0.30091923  0.15856514]]\n",
            "S_a: [318.36086807  51.80835426  13.46204824   6.19909528   0.77238962]\n",
            "Vt_a: [[-0.09589368 -0.12772368 -0.22381058 -0.44012834 -0.85480228]\n",
            " [ 0.21246417  0.31093045  0.53097719  0.5691138  -0.50234842]\n",
            " [ 0.1267101   0.58643426  0.43286847 -0.66105293  0.12519311]\n",
            " [ 0.33967503  0.61784433 -0.69139646  0.15494791 -0.0291777 ]\n",
            " [-0.90234628  0.40171154 -0.05067418  0.14627607 -0.02084411]]\n",
            "Singular Value Decomposition of matrix 'b':\n",
            "U_b: [[-0.27973755  0.50198795  0.58638481  0.25527095 -0.51063157]\n",
            " [-0.23281556 -0.64223149  0.4745052  -0.51189161 -0.21481951]\n",
            " [-0.28043202  0.49360601 -0.32595674 -0.74799855 -0.10936798]\n",
            " [-0.10859521  0.24609609  0.50208646 -0.13424494  0.81088302]\n",
            " [-0.88153774 -0.17702156 -0.26955343  0.3086749   0.15367286]]\n",
            "S_b: [3183.34154013  519.9057625   132.12573809   64.85463461    8.50310005]\n",
            "Vt_b: [[-0.09590865 -0.12708381 -0.22384096 -0.44018982 -0.85485635]\n",
            " [ 0.21169446  0.32091245  0.52841104  0.56682165 -0.50169278]\n",
            " [ 0.13202265  0.57089589  0.43984659 -0.66819562  0.12921876]\n",
            " [ 0.31142806  0.63607824 -0.69032095  0.14595511 -0.02389845]\n",
            " [-0.91190436  0.38774639 -0.02586414  0.13098805 -0.01601079]]\n",
            "Norm of matrix 'a': 322.89007417385875\n",
            "Norm of matrix 'b': 3228.885411407472\n"
          ]
        }
      ]
    },
    {
      "cell_type": "markdown",
      "source": [
        "Question 12"
      ],
      "metadata": {
        "id": "M0uYL8fbIvcz"
      }
    },
    {
      "cell_type": "code",
      "source": [
        "import numpy as np\n",
        "\n",
        "# Create a column vector manually\n",
        "column_vector = np.array([[1], [2], [3], [4], [5]])\n",
        "\n",
        "# Calculate the norm of the column vector\n",
        "norm = np.linalg.norm(column_vector)\n",
        "print(\"Norm of the column vector:\", norm)\n",
        "\n",
        "# Create another column vector for inner product\n",
        "inner_product_vector = np.array([[2], [4], [6], [8], [10]])\n",
        "\n",
        "# Calculate the inner product of the two column vectors\n",
        "inner_product = np.inner(column_vector.flatten(), inner_product_vector.flatten())\n",
        "print(\"Inner product of the column vectors:\", inner_product)\n",
        "\n",
        "# Calculate the outer product of the two column vectors\n",
        "outer_product = np.outer(column_vector, inner_product_vector.T)\n",
        "print(\"Outer product of the column vectors:\")\n",
        "print(outer_product)"
      ],
      "metadata": {
        "id": "VRAjB_HQIx5r",
        "colab": {
          "base_uri": "https://localhost:8080/"
        },
        "outputId": "3501e054-d1d9-4f2c-c6d4-cde3c236bbfe"
      },
      "execution_count": null,
      "outputs": [
        {
          "output_type": "stream",
          "name": "stdout",
          "text": [
            "Norm of the column vector: 7.416198487095663\n",
            "Inner product of the column vectors: 110\n",
            "Outer product of the column vectors:\n",
            "[[ 2  4  6  8 10]\n",
            " [ 4  8 12 16 20]\n",
            " [ 6 12 18 24 30]\n",
            " [ 8 16 24 32 40]\n",
            " [10 20 30 40 50]]\n"
          ]
        }
      ]
    },
    {
      "cell_type": "markdown",
      "source": [
        "Question 13"
      ],
      "metadata": {
        "id": "njGKNsreKFR6"
      }
    },
    {
      "cell_type": "code",
      "source": [
        "import math\n",
        "\n",
        "def derivative(f, a, method='central', h=0.01):\n",
        "    # Implementation of the numerical derivative using different methods.\n",
        "    # Returns the approximate derivative of function f at point a.\n",
        "    if method == 'forward':\n",
        "        return (f(a + h) - f(a)) / h# using first derivative formula\n",
        "    elif method == 'backward':\n",
        "        return (f(a) - f(a - h)) / h\n",
        "    elif method == 'central':\n",
        "        return (f(a + h) - f(a - h)) / (2 * h)\n",
        "    else:\n",
        "        raise ValueError(\"Invalid method, supported methods are 'forward', 'backward', and 'central'.\")\n",
        "\n",
        "def ex(x):#an maths function for determining exponent\n",
        "    return math.exp(x)\n",
        "\n",
        "def cos(x):# an maths function for determining cosine\n",
        "    return math.cos(x)\n",
        "\n",
        "\n",
        "x = 0.5 # value of x is intialized\n",
        "\n",
        "derivative_ex_forward = derivative(ex, x, method='forward')# for x =0.5 forward derivative is carried out in ex()\n",
        "derivative_ex_backward = derivative(ex, x, method='backward')#for x =0.5 backward derivative is carried out in ex()\n",
        "derivative_ex_central = derivative(ex, x, method='central')#for x =0.5 central derivative is carried out in ex()\n",
        "\n",
        "derivative_cos_forward = derivative(cos, x, method='forward')#for x =0.5 forward derivative is carried out in cos()\n",
        "derivative_cos_backward = derivative(cos, x, method='backward')#for x =0.5 backward derivative is carried out in cos()\n",
        "derivative_cos_central = derivative(cos, x, method='central')#for x =0.5 backward derivative is carried out in cos()\n",
        "\n",
        "print(\"Testing on ex(x) at x =\",x)\n",
        "print(\"Forward difference:\", derivative_ex_forward)\n",
        "print(\"Backward difference:\", derivative_ex_backward)\n",
        "print(\"Central difference:\", derivative_ex_central)\n",
        "\n",
        "print(\"\\nTesting on cos(x) at x =\",x)\n",
        "print(\"Forward difference:\", derivative_cos_forward)\n",
        "print(\"Backward difference:\", derivative_cos_backward)\n",
        "print(\"Central difference:\", derivative_cos_central)"
      ],
      "metadata": {
        "id": "D8tSD8BqNmuO",
        "colab": {
          "base_uri": "https://localhost:8080/"
        },
        "outputId": "7b748412-352f-4ce3-ee5c-972a99a770a1"
      },
      "execution_count": null,
      "outputs": [
        {
          "output_type": "stream",
          "name": "stdout",
          "text": [
            "Testing on ex(x) at x = 0.5\n",
            "Forward difference: 1.6569924245758205\n",
            "Backward difference: 1.6405050744749294\n",
            "Central difference: 1.648748749525375\n",
            "\n",
            "Testing on cos(x) at x = 0.5\n",
            "Forward difference: -0.483805424462147\n",
            "Backward difference: -0.4750296719748692\n",
            "Central difference: -0.4794175482185081\n"
          ]
        }
      ]
    },
    {
      "cell_type": "markdown",
      "source": [
        "Question 14\n"
      ],
      "metadata": {
        "id": "xWwPmME9aG-t"
      }
    },
    {
      "cell_type": "code",
      "source": [
        "import pandas as pd\n",
        "# Dowloaded an aws_file from google and save it as .csv\n",
        "df = pd.read_csv(\"/content/surface_data.csv\", index_col=0)\n",
        "# defined the path of the file\n",
        "print(df)"
      ],
      "metadata": {
        "colab": {
          "base_uri": "https://localhost:8080/"
        },
        "id": "oGzBVe8NaJIC",
        "outputId": "ab22482f-3930-4e59-e93b-1abb14162d98"
      },
      "execution_count": null,
      "outputs": [
        {
          "output_type": "stream",
          "name": "stdout",
          "text": [
            "               tempr        ap      ws       wd       rh\n",
            "obstime                                                 \n",
            "1985-02-26  -10.0000  983.0250  16.125   11.750   64.875\n",
            "1985-02-27  -12.6250  981.5750   5.875   29.250   58.625\n",
            "1985-02-28  -17.1875  983.7750   3.000   99.000   55.125\n",
            "1985-03-01 -507.6250  986.3375  19.125 -493.625 -999.000\n",
            "1985-03-02 -257.3125  497.7500  33.875 -243.000 -224.125\n",
            "...              ...       ...     ...      ...      ...\n",
            "2010-12-27   -0.1125  996.9375   5.625   15.750 -999.000\n",
            "2010-12-28   -0.7000  994.6750  19.250    9.750 -999.000\n",
            "2010-12-29    0.6375  994.2875  22.250   10.250 -999.000\n",
            "2010-12-30    1.4375  992.5125  14.500   10.250 -999.000\n",
            "2010-12-31    0.9500  989.2000  16.500   11.500 -999.000\n",
            "\n",
            "[9385 rows x 5 columns]\n"
          ]
        }
      ]
    }
  ]
}