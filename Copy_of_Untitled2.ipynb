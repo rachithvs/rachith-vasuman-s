{
  "nbformat": 4,
  "nbformat_minor": 0,
  "metadata": {
    "colab": {
      "provenance": [],
      "authorship_tag": "ABX9TyMYk4Vm1YI/n4jdA1Gbuc5r",
      "include_colab_link": true
    },
    "kernelspec": {
      "name": "python3",
      "display_name": "Python 3"
    },
    "language_info": {
      "name": "python"
    }
  },
  "cells": [
    {
      "cell_type": "markdown",
      "metadata": {
        "id": "view-in-github",
        "colab_type": "text"
      },
      "source": [
        "<a href=\"https://colab.research.google.com/github/rachithvs/rachith-vasuman-s/blob/main/Copy_of_Untitled2.ipynb\" target=\"_parent\"><img src=\"https://colab.research.google.com/assets/colab-badge.svg\" alt=\"Open In Colab\"/></a>"
      ]
    },
    {
      "cell_type": "code",
      "execution_count": null,
      "metadata": {
        "id": "Ll759XObPvST"
      },
      "outputs": [],
      "source": [
        "# 1) Create a row and column vector using input method and manually"
      ]
    },
    {
      "cell_type": "code",
      "source": [
        "import numpy as np\n",
        "row_input = input(\"Enter space-separated values for the row vector: \")\n",
        "row_values = [float(x) for x in row_input.split()]\n",
        "row_vect = np.array(row_values)\n",
        "\n",
        "print(\"Row vector:\")\n",
        "print(row_vect)"
      ],
      "metadata": {
        "colab": {
          "base_uri": "https://localhost:8080/"
        },
        "id": "CxUNHalHP8e_",
        "outputId": "804a7692-4a07-4e44-981c-e6f1826a07d6"
      },
      "execution_count": 9,
      "outputs": [
        {
          "output_type": "stream",
          "name": "stdout",
          "text": [
            "Enter space-separated values for the row vector: 1 2 3 4 5\n",
            "Row vector:\n",
            "[1. 2. 3. 4. 5.]\n"
          ]
        }
      ]
    },
    {
      "cell_type": "code",
      "source": [
        "col_input = input(\"Enter space-separated values for the column vector: \")\n",
        "col_values = [float(x) for x in col_input.split()]\n",
        "col_vect = np.array(col_values).reshape(-1, 1)\n",
        "\n",
        "print(\"Column vector:\")\n",
        "print(col_vect)"
      ],
      "metadata": {
        "colab": {
          "base_uri": "https://localhost:8080/"
        },
        "id": "YDU8kKv9QFq6",
        "outputId": "32fcfe2c-78ca-4b37-db09-90bdbabbf7ff"
      },
      "execution_count": 11,
      "outputs": [
        {
          "output_type": "stream",
          "name": "stdout",
          "text": [
            "Enter space-separated values for the column vector: 1 2 3 4 5\n",
            "Column vector:\n",
            "[[1.]\n",
            " [2.]\n",
            " [3.]\n",
            " [4.]\n",
            " [5.]]\n"
          ]
        }
      ]
    },
    {
      "cell_type": "code",
      "source": [
        "#2) Create a matrix (5 × 5) using the input method as well as manually and save it as “a”."
      ],
      "metadata": {
        "id": "s0MHw45JQOI8"
      },
      "execution_count": null,
      "outputs": []
    },
    {
      "cell_type": "code",
      "source": [
        "input_matrix = []\n",
        "print(\"Enter values for the 5x5 matrix:\")\n",
        "\n",
        "for _ in range(5):\n",
        "    row_input = input(f\"Enter 5 space-separated values for row {_ + 1}: \")\n",
        "    row_values = [float(x) for x in row_input.split()]\n",
        "    input_matrix.append(row_values)\n",
        "\n",
        "a = np.array(input_matrix)\n",
        "\n",
        "print(\"Matrix 'a' created using user input:\")\n",
        "print(a)"
      ],
      "metadata": {
        "colab": {
          "base_uri": "https://localhost:8080/"
        },
        "id": "U5iZJ777Rdce",
        "outputId": "f82bddd5-b0ce-4afb-9b03-44d661eb4496"
      },
      "execution_count": 12,
      "outputs": [
        {
          "output_type": "stream",
          "name": "stdout",
          "text": [
            "Enter values for the 5x5 matrix:\n",
            "Enter 5 space-separated values for row 1: 1 2 3 4 5 \n",
            "Enter 5 space-separated values for row 2: 6 7 8 9 10\n",
            "Enter 5 space-separated values for row 3: 11 12 13 14 15\n",
            "Enter 5 space-separated values for row 4: 16 17 18 19 20 \n",
            "Enter 5 space-separated values for row 5: 21 22 23 24 25\n",
            "Matrix 'a' created using user input:\n",
            "[[ 1.  2.  3.  4.  5.]\n",
            " [ 6.  7.  8.  9. 10.]\n",
            " [11. 12. 13. 14. 15.]\n",
            " [16. 17. 18. 19. 20.]\n",
            " [21. 22. 23. 24. 25.]]\n"
          ]
        }
      ]
    },
    {
      "cell_type": "code",
      "source": [
        "#3) Get 3rd row out of the matrix."
      ],
      "metadata": {
        "id": "khNqXhiISTXv"
      },
      "execution_count": null,
      "outputs": []
    },
    {
      "cell_type": "code",
      "source": [
        "a[2]"
      ],
      "metadata": {
        "colab": {
          "base_uri": "https://localhost:8080/"
        },
        "id": "hFr3BvJUSpiW",
        "outputId": "4503d39f-d1b1-459b-a285-b7d604302889"
      },
      "execution_count": 13,
      "outputs": [
        {
          "output_type": "execute_result",
          "data": {
            "text/plain": [
              "array([11., 12., 13., 14., 15.])"
            ]
          },
          "metadata": {},
          "execution_count": 13
        }
      ]
    },
    {
      "cell_type": "code",
      "source": [
        "#4) Get 4th column out of the matrix"
      ],
      "metadata": {
        "id": "SVetgCPHS3cr"
      },
      "execution_count": null,
      "outputs": []
    },
    {
      "cell_type": "code",
      "source": [
        "print(a[0][3])\n",
        "print(a[1][3])\n",
        "print(a[2][3])\n",
        "print(a[3][3])\n",
        "print(a[4][3])"
      ],
      "metadata": {
        "colab": {
          "base_uri": "https://localhost:8080/"
        },
        "id": "cF0qtSGTS_Nl",
        "outputId": "9e062f60-5740-48d3-8604-ddec76d421b2"
      },
      "execution_count": 14,
      "outputs": [
        {
          "output_type": "stream",
          "name": "stdout",
          "text": [
            "4.0\n",
            "9.0\n",
            "14.0\n",
            "19.0\n",
            "24.0\n"
          ]
        }
      ]
    },
    {
      "cell_type": "code",
      "source": [
        "#5) Sort matrix row wise and column wise"
      ],
      "metadata": {
        "id": "j-X0vmrxTOur"
      },
      "execution_count": null,
      "outputs": []
    },
    {
      "cell_type": "code",
      "source": [
        "a.sort()\n",
        "print(a)"
      ],
      "metadata": {
        "colab": {
          "base_uri": "https://localhost:8080/"
        },
        "id": "w7-dOZmOTyNB",
        "outputId": "8696d654-63c0-40fa-cc14-9d2f9eb979bb"
      },
      "execution_count": 15,
      "outputs": [
        {
          "output_type": "stream",
          "name": "stdout",
          "text": [
            "[[ 1.  2.  3.  4.  5.]\n",
            " [ 6.  7.  8.  9. 10.]\n",
            " [11. 12. 13. 14. 15.]\n",
            " [16. 17. 18. 19. 20.]\n",
            " [21. 22. 23. 24. 25.]]\n"
          ]
        }
      ]
    },
    {
      "cell_type": "code",
      "source": [
        "#6) Apply for loop in matrix, if element is greater than 2, multiply element by 10 say it as “b”."
      ],
      "metadata": {
        "id": "9kFRbrwyT160"
      },
      "execution_count": null,
      "outputs": []
    },
    {
      "cell_type": "code",
      "source": [
        "b = np.copy(a)  # Create a copy of the matrix\n",
        "\n",
        "for i in range(b.shape[0]):\n",
        "    for j in range(b.shape[1]):\n",
        "        if b[i, j] > 2:\n",
        "            b[i, j] *= 10\n",
        "\n",
        "print(\"Matrix 'b' after applying for loop:\")\n",
        "print(b)"
      ],
      "metadata": {
        "id": "XQ1JBU8HU2rB",
        "colab": {
          "base_uri": "https://localhost:8080/"
        },
        "outputId": "b0715d27-cd5e-4828-f7c1-26a87758315d"
      },
      "execution_count": 16,
      "outputs": [
        {
          "output_type": "stream",
          "name": "stdout",
          "text": [
            "Matrix 'b' after applying for loop:\n",
            "[[  1.   2.  30.  40.  50.]\n",
            " [ 60.  70.  80.  90. 100.]\n",
            " [110. 120. 130. 140. 150.]\n",
            " [160. 170. 180. 190. 200.]\n",
            " [210. 220. 230. 240. 250.]]\n"
          ]
        }
      ]
    },
    {
      "cell_type": "code",
      "source": [
        "#7) Add matrix a and b."
      ],
      "metadata": {
        "id": "cGLGumrK8iEg"
      },
      "execution_count": 17,
      "outputs": []
    },
    {
      "cell_type": "code",
      "source": [
        "sum_matrix = a + b\n",
        "\n",
        "print(\"Sum of matrices 'a' and 'b':\")\n",
        "print(sum_matrix)"
      ],
      "metadata": {
        "colab": {
          "base_uri": "https://localhost:8080/"
        },
        "id": "mbAaSjuV-aya",
        "outputId": "edc3e718-0839-4f54-818f-45e413eceda0"
      },
      "execution_count": 18,
      "outputs": [
        {
          "output_type": "stream",
          "name": "stdout",
          "text": [
            "Sum of matrices 'a' and 'b':\n",
            "[[  2.   4.  33.  44.  55.]\n",
            " [ 66.  77.  88.  99. 110.]\n",
            " [121. 132. 143. 154. 165.]\n",
            " [176. 187. 198. 209. 220.]\n",
            " [231. 242. 253. 264. 275.]]\n"
          ]
        }
      ]
    },
    {
      "cell_type": "code",
      "source": [
        "#8) Subtract matrix b from a"
      ],
      "metadata": {
        "id": "3CuGHLXP-e45"
      },
      "execution_count": 19,
      "outputs": []
    },
    {
      "cell_type": "code",
      "source": [
        "diff_matrix = a - b\n",
        "\n",
        "print(\"Subtraction of matrix 'b' from 'a':\")\n",
        "print(diff_matrix)"
      ],
      "metadata": {
        "colab": {
          "base_uri": "https://localhost:8080/"
        },
        "id": "ockrrNJ7-rg9",
        "outputId": "cec7fd0a-752c-455e-abe1-91928fea0b2e"
      },
      "execution_count": 20,
      "outputs": [
        {
          "output_type": "stream",
          "name": "stdout",
          "text": [
            "Subtraction of matrix 'b' from 'a':\n",
            "[[   0.    0.  -27.  -36.  -45.]\n",
            " [ -54.  -63.  -72.  -81.  -90.]\n",
            " [ -99. -108. -117. -126. -135.]\n",
            " [-144. -153. -162. -171. -180.]\n",
            " [-189. -198. -207. -216. -225.]]\n"
          ]
        }
      ]
    },
    {
      "cell_type": "code",
      "source": [
        "#9) Multiply matrix a by b element wise and matrix multiplication"
      ],
      "metadata": {
        "id": "6jmMqjR0-sbL"
      },
      "execution_count": 21,
      "outputs": []
    },
    {
      "cell_type": "code",
      "source": [
        "elementwise_product = a * b\n",
        "\n",
        "print(\"Element-wise multiplication of matrices 'a' and 'b':\")\n",
        "print(elementwise_product)"
      ],
      "metadata": {
        "colab": {
          "base_uri": "https://localhost:8080/"
        },
        "id": "JKF45cZF_TkP",
        "outputId": "2a0fb18d-5a7a-41d2-9960-89792a2edbf2"
      },
      "execution_count": 22,
      "outputs": [
        {
          "output_type": "stream",
          "name": "stdout",
          "text": [
            "Element-wise multiplication of matrices 'a' and 'b':\n",
            "[[1.00e+00 4.00e+00 9.00e+01 1.60e+02 2.50e+02]\n",
            " [3.60e+02 4.90e+02 6.40e+02 8.10e+02 1.00e+03]\n",
            " [1.21e+03 1.44e+03 1.69e+03 1.96e+03 2.25e+03]\n",
            " [2.56e+03 2.89e+03 3.24e+03 3.61e+03 4.00e+03]\n",
            " [4.41e+03 4.84e+03 5.29e+03 5.76e+03 6.25e+03]]\n"
          ]
        }
      ]
    },
    {
      "cell_type": "code",
      "source": [
        "# Matrix multiplication (Dot product)\n",
        "matrix_product = np.dot(a, b)\n",
        "\n",
        "print(\"Matrix multiplication of matrices 'a' and 'b':\")\n",
        "print(matrix_product)"
      ],
      "metadata": {
        "colab": {
          "base_uri": "https://localhost:8080/"
        },
        "id": "LXAR2xKI_XmJ",
        "outputId": "c6cc1347-5528-495c-e9ae-c8cf0843b599"
      },
      "execution_count": 23,
      "outputs": [
        {
          "output_type": "stream",
          "name": "stdout",
          "text": [
            "Matrix multiplication of matrices 'a' and 'b':\n",
            "[[ 2141.  2282.  2450.  2600.  2750.]\n",
            " [ 4846.  5192.  5700.  6100.  6500.]\n",
            " [ 7551.  8102.  8950.  9600. 10250.]\n",
            " [10256. 11012. 12200. 13100. 14000.]\n",
            " [12961. 13922. 15450. 16600. 17750.]]\n"
          ]
        }
      ]
    },
    {
      "cell_type": "code",
      "source": [
        "#10) Divide each element of matrix a and b by 18."
      ],
      "metadata": {
        "id": "UYHnVwLUAAqK"
      },
      "execution_count": 24,
      "outputs": []
    },
    {
      "cell_type": "code",
      "source": [
        "a_divided = a / 18\n",
        "b_divided = b / 18\n",
        "\n",
        "print(\"Matrix 'a' after element-wise division:\")\n",
        "print(a_divided)\n",
        "\n",
        "print(\"Matrix 'b' after element-wise division:\")\n",
        "print(b_divided)"
      ],
      "metadata": {
        "colab": {
          "base_uri": "https://localhost:8080/"
        },
        "id": "ydov3g48AzYE",
        "outputId": "6f9eec54-1fa0-4967-896f-22b7e4afec9b"
      },
      "execution_count": 25,
      "outputs": [
        {
          "output_type": "stream",
          "name": "stdout",
          "text": [
            "Matrix 'a' after element-wise division:\n",
            "[[0.05555556 0.11111111 0.16666667 0.22222222 0.27777778]\n",
            " [0.33333333 0.38888889 0.44444444 0.5        0.55555556]\n",
            " [0.61111111 0.66666667 0.72222222 0.77777778 0.83333333]\n",
            " [0.88888889 0.94444444 1.         1.05555556 1.11111111]\n",
            " [1.16666667 1.22222222 1.27777778 1.33333333 1.38888889]]\n",
            "Matrix 'b' after element-wise division:\n",
            "[[ 0.05555556  0.11111111  1.66666667  2.22222222  2.77777778]\n",
            " [ 3.33333333  3.88888889  4.44444444  5.          5.55555556]\n",
            " [ 6.11111111  6.66666667  7.22222222  7.77777778  8.33333333]\n",
            " [ 8.88888889  9.44444444 10.         10.55555556 11.11111111]\n",
            " [11.66666667 12.22222222 12.77777778 13.33333333 13.88888889]]\n"
          ]
        }
      ]
    },
    {
      "cell_type": "code",
      "source": [
        "#11) find the inverse, rank, condition number, singular value decomposition and the norm of matrices a and b."
      ],
      "metadata": {
        "id": "2ZctpMNsA3sh"
      },
      "execution_count": 27,
      "outputs": []
    },
    {
      "cell_type": "code",
      "source": [
        "#Inverses of matrices\n",
        "a_inv = np.linalg.inv(a)\n",
        "b_inv = np.linalg.inv(b)\n",
        "print(\"Inverse of matrix 'a':\")\n",
        "print(a_inv)\n",
        "print(\"Inverse of matrix 'b':\")\n",
        "print(b_inv)\n"
      ],
      "metadata": {
        "colab": {
          "base_uri": "https://localhost:8080/",
          "height": 391
        },
        "id": "PTZakw6wB6Tg",
        "outputId": "9377742f-b917-4a5a-b1e0-898adad266d7"
      },
      "execution_count": 28,
      "outputs": [
        {
          "output_type": "error",
          "ename": "LinAlgError",
          "evalue": "ignored",
          "traceback": [
            "\u001b[0;31m---------------------------------------------------------------------------\u001b[0m",
            "\u001b[0;31mLinAlgError\u001b[0m                               Traceback (most recent call last)",
            "\u001b[0;32m<ipython-input-28-0ad90b014584>\u001b[0m in \u001b[0;36m<cell line: 2>\u001b[0;34m()\u001b[0m\n\u001b[1;32m      1\u001b[0m \u001b[0;31m#Inverses of matrices\u001b[0m\u001b[0;34m\u001b[0m\u001b[0;34m\u001b[0m\u001b[0m\n\u001b[0;32m----> 2\u001b[0;31m \u001b[0ma_inv\u001b[0m \u001b[0;34m=\u001b[0m \u001b[0mnp\u001b[0m\u001b[0;34m.\u001b[0m\u001b[0mlinalg\u001b[0m\u001b[0;34m.\u001b[0m\u001b[0minv\u001b[0m\u001b[0;34m(\u001b[0m\u001b[0ma\u001b[0m\u001b[0;34m)\u001b[0m\u001b[0;34m\u001b[0m\u001b[0;34m\u001b[0m\u001b[0m\n\u001b[0m\u001b[1;32m      3\u001b[0m \u001b[0mb_inv\u001b[0m \u001b[0;34m=\u001b[0m \u001b[0mnp\u001b[0m\u001b[0;34m.\u001b[0m\u001b[0mlinalg\u001b[0m\u001b[0;34m.\u001b[0m\u001b[0minv\u001b[0m\u001b[0;34m(\u001b[0m\u001b[0mb\u001b[0m\u001b[0;34m)\u001b[0m\u001b[0;34m\u001b[0m\u001b[0;34m\u001b[0m\u001b[0m\n\u001b[1;32m      4\u001b[0m \u001b[0mprint\u001b[0m\u001b[0;34m(\u001b[0m\u001b[0;34m\"Inverse of matrix 'a':\"\u001b[0m\u001b[0;34m)\u001b[0m\u001b[0;34m\u001b[0m\u001b[0;34m\u001b[0m\u001b[0m\n\u001b[1;32m      5\u001b[0m \u001b[0mprint\u001b[0m\u001b[0;34m(\u001b[0m\u001b[0ma_inv\u001b[0m\u001b[0;34m)\u001b[0m\u001b[0;34m\u001b[0m\u001b[0;34m\u001b[0m\u001b[0m\n",
            "\u001b[0;32m/usr/local/lib/python3.10/dist-packages/numpy/core/overrides.py\u001b[0m in \u001b[0;36minv\u001b[0;34m(*args, **kwargs)\u001b[0m\n",
            "\u001b[0;32m/usr/local/lib/python3.10/dist-packages/numpy/linalg/linalg.py\u001b[0m in \u001b[0;36minv\u001b[0;34m(a)\u001b[0m\n\u001b[1;32m    550\u001b[0m     \u001b[0msignature\u001b[0m \u001b[0;34m=\u001b[0m \u001b[0;34m'D->D'\u001b[0m \u001b[0;32mif\u001b[0m \u001b[0misComplexType\u001b[0m\u001b[0;34m(\u001b[0m\u001b[0mt\u001b[0m\u001b[0;34m)\u001b[0m \u001b[0;32melse\u001b[0m \u001b[0;34m'd->d'\u001b[0m\u001b[0;34m\u001b[0m\u001b[0;34m\u001b[0m\u001b[0m\n\u001b[1;32m    551\u001b[0m     \u001b[0mextobj\u001b[0m \u001b[0;34m=\u001b[0m \u001b[0mget_linalg_error_extobj\u001b[0m\u001b[0;34m(\u001b[0m\u001b[0m_raise_linalgerror_singular\u001b[0m\u001b[0;34m)\u001b[0m\u001b[0;34m\u001b[0m\u001b[0;34m\u001b[0m\u001b[0m\n\u001b[0;32m--> 552\u001b[0;31m     \u001b[0mainv\u001b[0m \u001b[0;34m=\u001b[0m \u001b[0m_umath_linalg\u001b[0m\u001b[0;34m.\u001b[0m\u001b[0minv\u001b[0m\u001b[0;34m(\u001b[0m\u001b[0ma\u001b[0m\u001b[0;34m,\u001b[0m \u001b[0msignature\u001b[0m\u001b[0;34m=\u001b[0m\u001b[0msignature\u001b[0m\u001b[0;34m,\u001b[0m \u001b[0mextobj\u001b[0m\u001b[0;34m=\u001b[0m\u001b[0mextobj\u001b[0m\u001b[0;34m)\u001b[0m\u001b[0;34m\u001b[0m\u001b[0;34m\u001b[0m\u001b[0m\n\u001b[0m\u001b[1;32m    553\u001b[0m     \u001b[0;32mreturn\u001b[0m \u001b[0mwrap\u001b[0m\u001b[0;34m(\u001b[0m\u001b[0mainv\u001b[0m\u001b[0;34m.\u001b[0m\u001b[0mastype\u001b[0m\u001b[0;34m(\u001b[0m\u001b[0mresult_t\u001b[0m\u001b[0;34m,\u001b[0m \u001b[0mcopy\u001b[0m\u001b[0;34m=\u001b[0m\u001b[0;32mFalse\u001b[0m\u001b[0;34m)\u001b[0m\u001b[0;34m)\u001b[0m\u001b[0;34m\u001b[0m\u001b[0;34m\u001b[0m\u001b[0m\n\u001b[1;32m    554\u001b[0m \u001b[0;34m\u001b[0m\u001b[0m\n",
            "\u001b[0;32m/usr/local/lib/python3.10/dist-packages/numpy/linalg/linalg.py\u001b[0m in \u001b[0;36m_raise_linalgerror_singular\u001b[0;34m(err, flag)\u001b[0m\n\u001b[1;32m     87\u001b[0m \u001b[0;34m\u001b[0m\u001b[0m\n\u001b[1;32m     88\u001b[0m \u001b[0;32mdef\u001b[0m \u001b[0m_raise_linalgerror_singular\u001b[0m\u001b[0;34m(\u001b[0m\u001b[0merr\u001b[0m\u001b[0;34m,\u001b[0m \u001b[0mflag\u001b[0m\u001b[0;34m)\u001b[0m\u001b[0;34m:\u001b[0m\u001b[0;34m\u001b[0m\u001b[0;34m\u001b[0m\u001b[0m\n\u001b[0;32m---> 89\u001b[0;31m     \u001b[0;32mraise\u001b[0m \u001b[0mLinAlgError\u001b[0m\u001b[0;34m(\u001b[0m\u001b[0;34m\"Singular matrix\"\u001b[0m\u001b[0;34m)\u001b[0m\u001b[0;34m\u001b[0m\u001b[0;34m\u001b[0m\u001b[0m\n\u001b[0m\u001b[1;32m     90\u001b[0m \u001b[0;34m\u001b[0m\u001b[0m\n\u001b[1;32m     91\u001b[0m \u001b[0;32mdef\u001b[0m \u001b[0m_raise_linalgerror_nonposdef\u001b[0m\u001b[0;34m(\u001b[0m\u001b[0merr\u001b[0m\u001b[0;34m,\u001b[0m \u001b[0mflag\u001b[0m\u001b[0;34m)\u001b[0m\u001b[0;34m:\u001b[0m\u001b[0;34m\u001b[0m\u001b[0;34m\u001b[0m\u001b[0m\n",
            "\u001b[0;31mLinAlgError\u001b[0m: Singular matrix"
          ]
        }
      ]
    },
    {
      "cell_type": "code",
      "source": [
        "# Rank of matrices\n",
        "rank_a = np.linalg.matrix_rank(a)\n",
        "rank_b = np.linalg.matrix_rank(b)\n",
        "print(\"Rank of matrix 'a':\", rank_a)\n",
        "print(\"Rank of matrix 'b':\", rank_b)\n"
      ],
      "metadata": {
        "colab": {
          "base_uri": "https://localhost:8080/"
        },
        "id": "opXGGxlCCS6T",
        "outputId": "c4b74c03-7b13-482e-f8ba-8072918ba628"
      },
      "execution_count": 29,
      "outputs": [
        {
          "output_type": "stream",
          "name": "stdout",
          "text": [
            "Rank of matrix 'a': 2\n",
            "Rank of matrix 'b': 3\n"
          ]
        }
      ]
    },
    {
      "cell_type": "code",
      "source": [
        "# Condition number of matrices\n",
        "cond_a = np.linalg.cond(a)\n",
        "cond_b = np.linalg.cond(b)\n",
        "print(\"Condition number of matrix 'a':\", cond_a)\n",
        "print(\"Condition number of matrix 'b':\", cond_b)"
      ],
      "metadata": {
        "colab": {
          "base_uri": "https://localhost:8080/"
        },
        "id": "qmU2AdqIDOH8",
        "outputId": "12efae1b-c97c-495d-91aa-6282d50baa60"
      },
      "execution_count": 30,
      "outputs": [
        {
          "output_type": "stream",
          "name": "stdout",
          "text": [
            "Condition number of matrix 'a': 3.5675570478720614e+17\n",
            "Condition number of matrix 'b': 1.1160764850096235e+17\n"
          ]
        }
      ]
    },
    {
      "cell_type": "code",
      "source": [
        "# Singular Value Decomposition (SVD)\n",
        "u_a, s_a, vh_a = np.linalg.svd(a)\n",
        "u_b, s_b, vh_b = np.linalg.svd(b)\n",
        "print(\"Singular Value Decomposition of matrix 'a':\")\n",
        "print(\"U:\")\n",
        "print(u_a)\n",
        "print(\"Singular values:\")\n",
        "print(s_a)\n",
        "print(\"V^H:\")\n",
        "print(vh_a)\n",
        "print(\"Singular Value Decomposition of matrix 'b':\")\n",
        "print(\"U:\")\n",
        "print(u_b)\n",
        "print(\"Singular values:\")\n",
        "print(s_b)\n",
        "print(\"V^H:\")\n",
        "print(vh_b)"
      ],
      "metadata": {
        "colab": {
          "base_uri": "https://localhost:8080/"
        },
        "id": "zAzMynHFDVWn",
        "outputId": "9b40ac95-8c0e-4d5d-ee2d-c03181728415"
      },
      "execution_count": 31,
      "outputs": [
        {
          "output_type": "stream",
          "name": "stdout",
          "text": [
            "Singular Value Decomposition of matrix 'a':\n",
            "U:\n",
            "[[-0.09359323 -0.76892152  0.61130515  0.0196316  -0.16099879]\n",
            " [-0.24363203 -0.49055421 -0.5142169  -0.45682855  0.4763283 ]\n",
            " [-0.39367083 -0.2121869  -0.3594458   0.81870773 -0.02272392]\n",
            " [-0.54370962  0.06618041 -0.18367831 -0.34545623 -0.73954194]\n",
            " [-0.69374842  0.34454772  0.44603585 -0.03605456  0.44693633]]\n",
            "Singular values:\n",
            "[7.42540539e+01 3.36681954e+00 2.98266488e-15 1.53916447e-15\n",
            " 2.08136977e-16]\n",
            "V^H:\n",
            "[[-0.39262281 -0.41913118 -0.44563955 -0.47214793 -0.4986563 ]\n",
            " [ 0.667718    0.35260325  0.0374885  -0.27762625 -0.592741  ]\n",
            " [ 0.5359956  -0.50603463 -0.52349916  0.42111979  0.0724184 ]\n",
            " [-0.33541664  0.36000724 -0.21070021  0.68304527 -0.49693566]\n",
            " [ 0.01429645 -0.56064583  0.69394096  0.23686977 -0.38446135]]\n",
            "Singular Value Decomposition of matrix 'b':\n",
            "U:\n",
            "[[-7.88349250e-02 -8.83486145e-01  4.61776230e-01  8.78631692e-16\n",
            "  -4.02440250e-17]\n",
            " [-2.43962900e-01 -3.53507967e-01 -7.17993190e-01  2.06990739e-01\n",
            "   5.07104362e-01]\n",
            " [-3.94184513e-01 -1.47936682e-01 -3.50333138e-01  1.01985623e-01\n",
            "  -8.30420937e-01]\n",
            " [-5.44406127e-01  5.76346028e-02  1.73269137e-02 -8.24943463e-01\n",
            "   1.39528788e-01]\n",
            " [-6.94627740e-01  2.63205888e-01  3.84986965e-01  5.15967101e-01\n",
            "   1.83787787e-01]]\n",
            "Singular values:\n",
            "[7.41586515e+02 4.50039192e+01 5.39337161e+00 1.85062771e-14\n",
            " 6.64458507e-15]\n",
            "V^H:\n",
            "[[-0.39247438 -0.41789374 -0.44618334 -0.47255944 -0.49893555]\n",
            " [ 0.58056663  0.52080455 -0.06900305 -0.30544697 -0.54189089]\n",
            " [ 0.45706263 -0.69219032  0.47027546  0.09159541 -0.28708463]\n",
            " [ 0.36613223 -0.18306611 -0.73078708  0.54624358  0.00147738]\n",
            " [ 0.40736616 -0.20368308 -0.20236167 -0.61369206  0.61237065]]\n"
          ]
        }
      ]
    },
    {
      "cell_type": "code",
      "source": [
        "# Norms of matrices\n",
        "norm_a = np.linalg.norm(a)\n",
        "norm_b = np.linalg.norm(b)\n",
        "print(\"Norm of matrix 'a':\", norm_a)\n",
        "print(\"Norm of matrix 'b':\", norm_b)"
      ],
      "metadata": {
        "colab": {
          "base_uri": "https://localhost:8080/"
        },
        "id": "P_eXI9osDhza",
        "outputId": "296697cf-bfbd-42ad-f8ca-f352ceaa614f"
      },
      "execution_count": 32,
      "outputs": [
        {
          "output_type": "stream",
          "name": "stdout",
          "text": [
            "Norm of matrix 'a': 74.33034373659252\n",
            "Norm of matrix 'b': 742.9703897195366\n"
          ]
        }
      ]
    },
    {
      "cell_type": "code",
      "source": [
        "#12) find the norm, inner product and outer product of column vector."
      ],
      "metadata": {
        "id": "rlch2hy3Dqj2"
      },
      "execution_count": 33,
      "outputs": []
    },
    {
      "cell_type": "code",
      "source": [
        "#norm of column vector\n",
        "norm_v = np.linalg.norm(v)\n",
        "print(\"Norm of the column vector 'v':\", norm_v)"
      ],
      "metadata": {
        "colab": {
          "base_uri": "https://localhost:8080/",
          "height": 211
        },
        "id": "XqloJ-y_D3HY",
        "outputId": "e4034713-ccbb-4f7f-9681-1c0ed8b8b55e"
      },
      "execution_count": 34,
      "outputs": [
        {
          "output_type": "error",
          "ename": "NameError",
          "evalue": "ignored",
          "traceback": [
            "\u001b[0;31m---------------------------------------------------------------------------\u001b[0m",
            "\u001b[0;31mNameError\u001b[0m                                 Traceback (most recent call last)",
            "\u001b[0;32m<ipython-input-34-c0e961c14853>\u001b[0m in \u001b[0;36m<cell line: 2>\u001b[0;34m()\u001b[0m\n\u001b[1;32m      1\u001b[0m \u001b[0;31m#norm of column vector\u001b[0m\u001b[0;34m\u001b[0m\u001b[0;34m\u001b[0m\u001b[0m\n\u001b[0;32m----> 2\u001b[0;31m \u001b[0mnorm_v\u001b[0m \u001b[0;34m=\u001b[0m \u001b[0mnp\u001b[0m\u001b[0;34m.\u001b[0m\u001b[0mlinalg\u001b[0m\u001b[0;34m.\u001b[0m\u001b[0mnorm\u001b[0m\u001b[0;34m(\u001b[0m\u001b[0mv\u001b[0m\u001b[0;34m)\u001b[0m\u001b[0;34m\u001b[0m\u001b[0;34m\u001b[0m\u001b[0m\n\u001b[0m\u001b[1;32m      3\u001b[0m \u001b[0mprint\u001b[0m\u001b[0;34m(\u001b[0m\u001b[0;34m\"Norm of the column vector 'v':\"\u001b[0m\u001b[0;34m,\u001b[0m \u001b[0mnorm_v\u001b[0m\u001b[0;34m)\u001b[0m\u001b[0;34m\u001b[0m\u001b[0;34m\u001b[0m\u001b[0m\n",
            "\u001b[0;31mNameError\u001b[0m: name 'v' is not defined"
          ]
        }
      ]
    },
    {
      "cell_type": "code",
      "source": [
        "#inner product of column vector\n",
        "inner_product = np.dot(v.T,v)\n",
        "print(\"Inner product of the column vector 'v' with itself:\")\n",
        "print(inner_product)"
      ],
      "metadata": {
        "colab": {
          "base_uri": "https://localhost:8080/",
          "height": 228
        },
        "id": "q6d-GkAAD8bt",
        "outputId": "f19127a3-bf3d-4b01-9d2d-9e398ea0a5bd"
      },
      "execution_count": 37,
      "outputs": [
        {
          "output_type": "error",
          "ename": "NameError",
          "evalue": "ignored",
          "traceback": [
            "\u001b[0;31m---------------------------------------------------------------------------\u001b[0m",
            "\u001b[0;31mNameError\u001b[0m                                 Traceback (most recent call last)",
            "\u001b[0;32m<ipython-input-37-8413b089f94d>\u001b[0m in \u001b[0;36m<cell line: 2>\u001b[0;34m()\u001b[0m\n\u001b[1;32m      1\u001b[0m \u001b[0;31m#inner product of column vector\u001b[0m\u001b[0;34m\u001b[0m\u001b[0;34m\u001b[0m\u001b[0m\n\u001b[0;32m----> 2\u001b[0;31m \u001b[0minner_product\u001b[0m \u001b[0;34m=\u001b[0m \u001b[0mnp\u001b[0m\u001b[0;34m.\u001b[0m\u001b[0mdot\u001b[0m\u001b[0;34m(\u001b[0m\u001b[0mv\u001b[0m\u001b[0;34m.\u001b[0m\u001b[0mT\u001b[0m\u001b[0;34m,\u001b[0m\u001b[0mv\u001b[0m\u001b[0;34m)\u001b[0m\u001b[0;34m\u001b[0m\u001b[0;34m\u001b[0m\u001b[0m\n\u001b[0m\u001b[1;32m      3\u001b[0m \u001b[0mprint\u001b[0m\u001b[0;34m(\u001b[0m\u001b[0;34m\"Inner product of the column vector 'v' with itself:\"\u001b[0m\u001b[0;34m)\u001b[0m\u001b[0;34m\u001b[0m\u001b[0;34m\u001b[0m\u001b[0m\n\u001b[1;32m      4\u001b[0m \u001b[0mprint\u001b[0m\u001b[0;34m(\u001b[0m\u001b[0minner_product\u001b[0m\u001b[0;34m)\u001b[0m\u001b[0;34m\u001b[0m\u001b[0;34m\u001b[0m\u001b[0m\n",
            "\u001b[0;31mNameError\u001b[0m: name 'v' is not defined"
          ]
        }
      ]
    },
    {
      "cell_type": "code",
      "source": [
        "#outer product of column vector\n",
        "outer_product = np.outer(v, v.T)\n",
        "print(\"Outer product of the column vector 'v' with itself:\")\n",
        "print(outer_product)"
      ],
      "metadata": {
        "colab": {
          "base_uri": "https://localhost:8080/",
          "height": 228
        },
        "id": "muvIykEsEAPK",
        "outputId": "6fd7f15f-d60e-4295-882e-06a7b60420a3"
      },
      "execution_count": 36,
      "outputs": [
        {
          "output_type": "error",
          "ename": "NameError",
          "evalue": "ignored",
          "traceback": [
            "\u001b[0;31m---------------------------------------------------------------------------\u001b[0m",
            "\u001b[0;31mNameError\u001b[0m                                 Traceback (most recent call last)",
            "\u001b[0;32m<ipython-input-36-39364617a265>\u001b[0m in \u001b[0;36m<cell line: 2>\u001b[0;34m()\u001b[0m\n\u001b[1;32m      1\u001b[0m \u001b[0;31m#outer product of column vector\u001b[0m\u001b[0;34m\u001b[0m\u001b[0;34m\u001b[0m\u001b[0m\n\u001b[0;32m----> 2\u001b[0;31m \u001b[0mouter_product\u001b[0m \u001b[0;34m=\u001b[0m \u001b[0mnp\u001b[0m\u001b[0;34m.\u001b[0m\u001b[0mouter\u001b[0m\u001b[0;34m(\u001b[0m\u001b[0mv\u001b[0m\u001b[0;34m,\u001b[0m \u001b[0mv\u001b[0m\u001b[0;34m.\u001b[0m\u001b[0mT\u001b[0m\u001b[0;34m)\u001b[0m\u001b[0;34m\u001b[0m\u001b[0;34m\u001b[0m\u001b[0m\n\u001b[0m\u001b[1;32m      3\u001b[0m \u001b[0mprint\u001b[0m\u001b[0;34m(\u001b[0m\u001b[0;34m\"Outer product of the column vector 'v' with itself:\"\u001b[0m\u001b[0;34m)\u001b[0m\u001b[0;34m\u001b[0m\u001b[0;34m\u001b[0m\u001b[0m\n\u001b[1;32m      4\u001b[0m \u001b[0mprint\u001b[0m\u001b[0;34m(\u001b[0m\u001b[0mouter_product\u001b[0m\u001b[0;34m)\u001b[0m\u001b[0;34m\u001b[0m\u001b[0;34m\u001b[0m\u001b[0m\n",
            "\u001b[0;31mNameError\u001b[0m: name 'v' is not defined"
          ]
        }
      ]
    },
    {
      "cell_type": "code",
      "source": [
        ""
      ],
      "metadata": {
        "id": "L7QL0XY6EDKh"
      },
      "execution_count": null,
      "outputs": []
    }
  ]
}